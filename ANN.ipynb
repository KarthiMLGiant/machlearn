{
 "cells": [
  {
   "cell_type": "code",
   "execution_count": 1,
   "metadata": {},
   "outputs": [],
   "source": [
    "#in NN we have hidden layer, in other ML we dont have hidden layers where weights are directly being minimised using cost functions.\n",
    "#each i/p values (perceptron) has nodes includes hidden layers, that calculates weights separately for indivdual obs but in ML it done in avg\n",
    "import warnings\n",
    "warnings.filterwarnings(\"ignore\") # Don't want to see the warnings in the notebook\n",
    "import pandas as pd\n",
    "import numpy as np\n",
    "import matplotlib.pyplot as plt\n",
    "import seaborn as sns"
   ]
  },
  {
   "cell_type": "code",
   "execution_count": 2,
   "metadata": {},
   "outputs": [],
   "source": [
    "dataset = pd.read_csv(r\"C:\\Users\\karthick's\\Desktop\\Jupyter\\KSR\\Churn_Modelling.csv\")"
   ]
  },
  {
   "cell_type": "code",
   "execution_count": 3,
   "metadata": {},
   "outputs": [
    {
     "data": {
      "text/html": [
       "<div>\n",
       "<style scoped>\n",
       "    .dataframe tbody tr th:only-of-type {\n",
       "        vertical-align: middle;\n",
       "    }\n",
       "\n",
       "    .dataframe tbody tr th {\n",
       "        vertical-align: top;\n",
       "    }\n",
       "\n",
       "    .dataframe thead th {\n",
       "        text-align: right;\n",
       "    }\n",
       "</style>\n",
       "<table border=\"1\" class=\"dataframe\">\n",
       "  <thead>\n",
       "    <tr style=\"text-align: right;\">\n",
       "      <th></th>\n",
       "      <th>RowNumber</th>\n",
       "      <th>CustomerId</th>\n",
       "      <th>Surname</th>\n",
       "      <th>CreditScore</th>\n",
       "      <th>Geography</th>\n",
       "      <th>Gender</th>\n",
       "      <th>Age</th>\n",
       "      <th>Tenure</th>\n",
       "      <th>Balance</th>\n",
       "      <th>NumOfProducts</th>\n",
       "      <th>HasCrCard</th>\n",
       "      <th>IsActiveMember</th>\n",
       "      <th>EstimatedSalary</th>\n",
       "      <th>Exited</th>\n",
       "    </tr>\n",
       "  </thead>\n",
       "  <tbody>\n",
       "    <tr>\n",
       "      <td>0</td>\n",
       "      <td>1</td>\n",
       "      <td>15634602</td>\n",
       "      <td>Hargrave</td>\n",
       "      <td>619</td>\n",
       "      <td>France</td>\n",
       "      <td>Female</td>\n",
       "      <td>42</td>\n",
       "      <td>2</td>\n",
       "      <td>0.00</td>\n",
       "      <td>1</td>\n",
       "      <td>1</td>\n",
       "      <td>1</td>\n",
       "      <td>101348.88</td>\n",
       "      <td>1</td>\n",
       "    </tr>\n",
       "    <tr>\n",
       "      <td>1</td>\n",
       "      <td>2</td>\n",
       "      <td>15647311</td>\n",
       "      <td>Hill</td>\n",
       "      <td>608</td>\n",
       "      <td>Spain</td>\n",
       "      <td>Female</td>\n",
       "      <td>41</td>\n",
       "      <td>1</td>\n",
       "      <td>83807.86</td>\n",
       "      <td>1</td>\n",
       "      <td>0</td>\n",
       "      <td>1</td>\n",
       "      <td>112542.58</td>\n",
       "      <td>0</td>\n",
       "    </tr>\n",
       "    <tr>\n",
       "      <td>2</td>\n",
       "      <td>3</td>\n",
       "      <td>15619304</td>\n",
       "      <td>Onio</td>\n",
       "      <td>502</td>\n",
       "      <td>France</td>\n",
       "      <td>Female</td>\n",
       "      <td>42</td>\n",
       "      <td>8</td>\n",
       "      <td>159660.80</td>\n",
       "      <td>3</td>\n",
       "      <td>1</td>\n",
       "      <td>0</td>\n",
       "      <td>113931.57</td>\n",
       "      <td>1</td>\n",
       "    </tr>\n",
       "    <tr>\n",
       "      <td>3</td>\n",
       "      <td>4</td>\n",
       "      <td>15701354</td>\n",
       "      <td>Boni</td>\n",
       "      <td>699</td>\n",
       "      <td>France</td>\n",
       "      <td>Female</td>\n",
       "      <td>39</td>\n",
       "      <td>1</td>\n",
       "      <td>0.00</td>\n",
       "      <td>2</td>\n",
       "      <td>0</td>\n",
       "      <td>0</td>\n",
       "      <td>93826.63</td>\n",
       "      <td>0</td>\n",
       "    </tr>\n",
       "    <tr>\n",
       "      <td>4</td>\n",
       "      <td>5</td>\n",
       "      <td>15737888</td>\n",
       "      <td>Mitchell</td>\n",
       "      <td>850</td>\n",
       "      <td>Spain</td>\n",
       "      <td>Female</td>\n",
       "      <td>43</td>\n",
       "      <td>2</td>\n",
       "      <td>125510.82</td>\n",
       "      <td>1</td>\n",
       "      <td>1</td>\n",
       "      <td>1</td>\n",
       "      <td>79084.10</td>\n",
       "      <td>0</td>\n",
       "    </tr>\n",
       "  </tbody>\n",
       "</table>\n",
       "</div>"
      ],
      "text/plain": [
       "   RowNumber  CustomerId   Surname  CreditScore Geography  Gender  Age  \\\n",
       "0          1    15634602  Hargrave          619    France  Female   42   \n",
       "1          2    15647311      Hill          608     Spain  Female   41   \n",
       "2          3    15619304      Onio          502    France  Female   42   \n",
       "3          4    15701354      Boni          699    France  Female   39   \n",
       "4          5    15737888  Mitchell          850     Spain  Female   43   \n",
       "\n",
       "   Tenure    Balance  NumOfProducts  HasCrCard  IsActiveMember  \\\n",
       "0       2       0.00              1          1               1   \n",
       "1       1   83807.86              1          0               1   \n",
       "2       8  159660.80              3          1               0   \n",
       "3       1       0.00              2          0               0   \n",
       "4       2  125510.82              1          1               1   \n",
       "\n",
       "   EstimatedSalary  Exited  \n",
       "0        101348.88       1  \n",
       "1        112542.58       0  \n",
       "2        113931.57       1  \n",
       "3         93826.63       0  \n",
       "4         79084.10       0  "
      ]
     },
     "execution_count": 3,
     "metadata": {},
     "output_type": "execute_result"
    }
   ],
   "source": [
    "dataset.head()"
   ]
  },
  {
   "cell_type": "code",
   "execution_count": 40,
   "metadata": {},
   "outputs": [],
   "source": [
    "X = dataset.iloc[:, 3:13].values\n",
    "y = dataset.iloc[:, 13].values"
   ]
  },
  {
   "cell_type": "code",
   "execution_count": 41,
   "metadata": {},
   "outputs": [],
   "source": [
    "# Encoding categorical data\n",
    "from sklearn.preprocessing import LabelEncoder, OneHotEncoder\n",
    "labelencoder_X_1 = LabelEncoder()\n",
    "X[:, 1] = labelencoder_X_1.fit_transform(X[:, 1])\n",
    "labelencoder_X_2 = LabelEncoder()\n",
    "X[:, 2] = labelencoder_X_2.fit_transform(X[:, 2])"
   ]
  },
  {
   "cell_type": "code",
   "execution_count": 42,
   "metadata": {},
   "outputs": [],
   "source": [
    "# Splitting the dataset into the Training set and Test set\n",
    "from sklearn.model_selection import train_test_split\n",
    "X_train, X_test, y_train, y_test = train_test_split(X, y, test_size = 0.2, random_state = 0)"
   ]
  },
  {
   "cell_type": "code",
   "execution_count": 43,
   "metadata": {},
   "outputs": [],
   "source": [
    "# Feature Scaling\n",
    "from sklearn.preprocessing import StandardScaler\n",
    "sc = StandardScaler()\n",
    "X_train = sc.fit_transform(X_train)\n",
    "X_test = sc.transform(X_test)"
   ]
  },
  {
   "cell_type": "code",
   "execution_count": 44,
   "metadata": {},
   "outputs": [
    {
     "data": {
      "text/plain": [
       "array([1, 0, 1, ..., 1, 1, 0], dtype=int64)"
      ]
     },
     "execution_count": 44,
     "metadata": {},
     "output_type": "execute_result"
    }
   ],
   "source": [
    "y"
   ]
  },
  {
   "cell_type": "code",
   "execution_count": 45,
   "metadata": {},
   "outputs": [],
   "source": [
    "# Importing the Keras libraries and packages\n",
    "import keras\n",
    "from keras.models import Sequential\n",
    "from keras.layers import Dense\n",
    "#sequential module - intialize the nn\n",
    "#dense module - to build layers of ANN"
   ]
  },
  {
   "cell_type": "code",
   "execution_count": 46,
   "metadata": {},
   "outputs": [],
   "source": [
    "import tensorflow"
   ]
  },
  {
   "cell_type": "code",
   "execution_count": 47,
   "metadata": {},
   "outputs": [],
   "source": [
    "import theano"
   ]
  },
  {
   "cell_type": "code",
   "execution_count": 48,
   "metadata": {},
   "outputs": [],
   "source": [
    "# Initialising the ANN\n",
    "classifier = Sequential()"
   ]
  },
  {
   "cell_type": "code",
   "execution_count": 49,
   "metadata": {},
   "outputs": [],
   "source": [
    "#This is using Stochastic Gradient method in neural network, is thr any other methods available ? - batching Gradient descent\n",
    "#Hidden layer uses Recctifier Activation function and Output layer uses Sigmoid Activation function.\n",
    "#Basically several ways on updating the weights, here the learning rates decides by how much we update weights."
   ]
  },
  {
   "cell_type": "code",
   "execution_count": 51,
   "metadata": {},
   "outputs": [],
   "source": [
    "# output_dim - 'no of i/p and o/p var divide by 2', init - 'first hidden layer start with random 0 weights'\n",
    "# activation - 'rectifier function' input_dim - 'no of i/p vars'\n",
    "# Adding the input layer and the first hidden layer\n",
    "classifier.add(Dense(output_dim = 5, init = 'uniform', activation = 'relu', input_dim = 10))"
   ]
  },
  {
   "cell_type": "code",
   "execution_count": 52,
   "metadata": {},
   "outputs": [],
   "source": [
    "#in first hidden layer, it doesnt know how many i/p nodes exists so we specify the input_dim, but in 2nd hidden layer since\n",
    "###it is already exists in 1st hidden layer, it can recognise \n",
    "# Adding the second hidden layer\n",
    "classifier.add(Dense(output_dim = 5, init = 'uniform', activation = 'relu'))"
   ]
  },
  {
   "cell_type": "code",
   "execution_count": 53,
   "metadata": {},
   "outputs": [],
   "source": [
    "#Softmax activation function, when dependent var has more than two categories - also like sigmoid func\n",
    "# Adding the output layer\n",
    "classifier.add(Dense(output_dim = 1, init = 'uniform', activation = 'sigmoid'))"
   ]
  },
  {
   "cell_type": "code",
   "execution_count": 54,
   "metadata": {},
   "outputs": [],
   "source": [
    "#Basically applying stochastic gradient descent (SGD) of whole ANN\n",
    "#optimizer - algorithm to use, to find the optimal set of weights in NN - bcz so far we just initialised weights (SGD)\n",
    "#'adam' - one of the SGD\n",
    "#if we do classification, loss func can be the logarithmic loss (fyi: in regressor it is SSE) \n",
    "#if we use more than two categories,then loss function to use is categorical_crossentropy\n",
    "\n",
    "# Compiling the ANN\n",
    "classifier.compile(optimizer = 'adam', loss = 'binary_crossentropy', metrics = ['accuracy'])"
   ]
  },
  {
   "cell_type": "code",
   "execution_count": 55,
   "metadata": {},
   "outputs": [],
   "source": [
    "#Now we apply our ANN to training set and see how at epoch the training accuracy is improved using ANN build network"
   ]
  },
  {
   "cell_type": "code",
   "execution_count": 56,
   "metadata": {
    "scrolled": false
   },
   "outputs": [
    {
     "name": "stdout",
     "output_type": "stream",
     "text": [
      "WARNING:tensorflow:From D:\\ANACONDA\\Anaconda\\lib\\site-packages\\keras\\backend\\tensorflow_backend.py:986: The name tf.assign_add is deprecated. Please use tf.compat.v1.assign_add instead.\n",
      "\n",
      "WARNING:tensorflow:From D:\\ANACONDA\\Anaconda\\lib\\site-packages\\keras\\backend\\tensorflow_backend.py:973: The name tf.assign is deprecated. Please use tf.compat.v1.assign instead.\n",
      "\n",
      "WARNING:tensorflow:From D:\\ANACONDA\\Anaconda\\lib\\site-packages\\keras\\backend\\tensorflow_backend.py:2741: The name tf.Session is deprecated. Please use tf.compat.v1.Session instead.\n",
      "\n",
      "Epoch 1/100\n",
      "WARNING:tensorflow:From D:\\ANACONDA\\Anaconda\\lib\\site-packages\\keras\\backend\\tensorflow_backend.py:174: The name tf.get_default_session is deprecated. Please use tf.compat.v1.get_default_session instead.\n",
      "\n",
      "WARNING:tensorflow:From D:\\ANACONDA\\Anaconda\\lib\\site-packages\\keras\\backend\\tensorflow_backend.py:181: The name tf.ConfigProto is deprecated. Please use tf.compat.v1.ConfigProto instead.\n",
      "\n",
      "WARNING:tensorflow:From D:\\ANACONDA\\Anaconda\\lib\\site-packages\\keras\\backend\\tensorflow_backend.py:190: The name tf.global_variables is deprecated. Please use tf.compat.v1.global_variables instead.\n",
      "\n",
      "WARNING:tensorflow:From D:\\ANACONDA\\Anaconda\\lib\\site-packages\\keras\\backend\\tensorflow_backend.py:199: The name tf.is_variable_initialized is deprecated. Please use tf.compat.v1.is_variable_initialized instead.\n",
      "\n",
      "WARNING:tensorflow:From D:\\ANACONDA\\Anaconda\\lib\\site-packages\\keras\\backend\\tensorflow_backend.py:206: The name tf.variables_initializer is deprecated. Please use tf.compat.v1.variables_initializer instead.\n",
      "\n",
      "8000/8000 [==============================] - 11s 1ms/step - loss: 0.4855 - acc: 0.7944\n",
      "Epoch 2/100\n",
      "8000/8000 [==============================] - 3s 380us/step - loss: 0.4353 - acc: 0.7960\n",
      "Epoch 3/100\n",
      "8000/8000 [==============================] - 3s 313us/step - loss: 0.4305 - acc: 0.7960\n",
      "Epoch 4/100\n",
      "8000/8000 [==============================] - 2s 278us/step - loss: 0.4259 - acc: 0.8066\n",
      "Epoch 5/100\n",
      "8000/8000 [==============================] - 2s 288us/step - loss: 0.4228 - acc: 0.8221\n",
      "Epoch 6/100\n",
      "8000/8000 [==============================] - 2s 279us/step - loss: 0.4203 - acc: 0.8262\n",
      "Epoch 7/100\n",
      "8000/8000 [==============================] - 2s 272us/step - loss: 0.4185 - acc: 0.8286\n",
      "Epoch 8/100\n",
      "8000/8000 [==============================] - 2s 275us/step - loss: 0.4170 - acc: 0.8302\n",
      "Epoch 9/100\n",
      "8000/8000 [==============================] - 2s 287us/step - loss: 0.4154 - acc: 0.8316\n",
      "Epoch 10/100\n",
      "8000/8000 [==============================] - 2s 301us/step - loss: 0.4148 - acc: 0.8314\n",
      "Epoch 11/100\n",
      "8000/8000 [==============================] - 2s 308us/step - loss: 0.4137 - acc: 0.8317\n",
      "Epoch 12/100\n",
      "8000/8000 [==============================] - 2s 271us/step - loss: 0.4128 - acc: 0.8337\n",
      "Epoch 13/100\n",
      "8000/8000 [==============================] - 2s 271us/step - loss: 0.4118 - acc: 0.8325\n",
      "Epoch 14/100\n",
      "8000/8000 [==============================] - 2s 275us/step - loss: 0.4111 - acc: 0.8345\n",
      "Epoch 15/100\n",
      "8000/8000 [==============================] - 2s 291us/step - loss: 0.4104 - acc: 0.8327\n",
      "Epoch 16/100\n",
      "8000/8000 [==============================] - 2s 282us/step - loss: 0.4095 - acc: 0.8346\n",
      "Epoch 17/100\n",
      "8000/8000 [==============================] - 2s 275us/step - loss: 0.4093 - acc: 0.8349\n",
      "Epoch 18/100\n",
      "8000/8000 [==============================] - 3s 316us/step - loss: 0.4086 - acc: 0.8335\n",
      "Epoch 19/100\n",
      "8000/8000 [==============================] - 2s 298us/step - loss: 0.4085 - acc: 0.8339\n",
      "Epoch 20/100\n",
      "8000/8000 [==============================] - 2s 296us/step - loss: 0.4073 - acc: 0.8342\n",
      "Epoch 21/100\n",
      "8000/8000 [==============================] - 2s 297us/step - loss: 0.4077 - acc: 0.8342\n",
      "Epoch 22/100\n",
      "8000/8000 [==============================] - 3s 320us/step - loss: 0.4067 - acc: 0.8345\n",
      "Epoch 23/100\n",
      "8000/8000 [==============================] - 2s 294us/step - loss: 0.4061 - acc: 0.8341\n",
      "Epoch 24/100\n",
      "8000/8000 [==============================] - 2s 298us/step - loss: 0.4057 - acc: 0.8345\n",
      "Epoch 25/100\n",
      "8000/8000 [==============================] - 2s 299us/step - loss: 0.4048 - acc: 0.8339\n",
      "Epoch 26/100\n",
      "8000/8000 [==============================] - 2s 298us/step - loss: 0.4050 - acc: 0.8330\n",
      "Epoch 27/100\n",
      "8000/8000 [==============================] - 2s 298us/step - loss: 0.4046 - acc: 0.8335\n",
      "Epoch 28/100\n",
      "8000/8000 [==============================] - 2s 305us/step - loss: 0.4044 - acc: 0.8334\n",
      "Epoch 29/100\n",
      "8000/8000 [==============================] - 2s 301us/step - loss: 0.4037 - acc: 0.8336\n",
      "Epoch 30/100\n",
      "8000/8000 [==============================] - 2s 305us/step - loss: 0.4040 - acc: 0.8346\n",
      "Epoch 31/100\n",
      "8000/8000 [==============================] - 2s 303us/step - loss: 0.4034 - acc: 0.8350\n",
      "Epoch 32/100\n",
      "8000/8000 [==============================] - 3s 315us/step - loss: 0.4030 - acc: 0.8347\n",
      "Epoch 33/100\n",
      "8000/8000 [==============================] - 3s 317us/step - loss: 0.4028 - acc: 0.8346\n",
      "Epoch 34/100\n",
      "8000/8000 [==============================] - 2s 297us/step - loss: 0.4028 - acc: 0.8354\n",
      "Epoch 35/100\n",
      "8000/8000 [==============================] - 2s 303us/step - loss: 0.4022 - acc: 0.8352\n",
      "Epoch 36/100\n",
      "8000/8000 [==============================] - 2s 298us/step - loss: 0.4018 - acc: 0.8351\n",
      "Epoch 37/100\n",
      "8000/8000 [==============================] - 2s 308us/step - loss: 0.4015 - acc: 0.8347\n",
      "Epoch 38/100\n",
      "8000/8000 [==============================] - 3s 329us/step - loss: 0.4009 - acc: 0.8356\n",
      "Epoch 39/100\n",
      "8000/8000 [==============================] - 3s 313us/step - loss: 0.4003 - acc: 0.8356\n",
      "Epoch 40/100\n",
      "8000/8000 [==============================] - 2s 303us/step - loss: 0.3996 - acc: 0.8362\n",
      "Epoch 41/100\n",
      "8000/8000 [==============================] - 3s 313us/step - loss: 0.3989 - acc: 0.8345\n",
      "Epoch 42/100\n",
      "8000/8000 [==============================] - 2s 299us/step - loss: 0.3991 - acc: 0.8370\n",
      "Epoch 43/100\n",
      "8000/8000 [==============================] - 2s 301us/step - loss: 0.3991 - acc: 0.8357\n",
      "Epoch 44/100\n",
      "8000/8000 [==============================] - 2s 302us/step - loss: 0.3978 - acc: 0.8356\n",
      "Epoch 45/100\n",
      "8000/8000 [==============================] - 2s 305us/step - loss: 0.3978 - acc: 0.8360\n",
      "Epoch 46/100\n",
      "8000/8000 [==============================] - 2s 310us/step - loss: 0.3974 - acc: 0.8372\n",
      "Epoch 47/100\n",
      "8000/8000 [==============================] - 2s 304us/step - loss: 0.3974 - acc: 0.8354\n",
      "Epoch 48/100\n",
      "8000/8000 [==============================] - 2s 295us/step - loss: 0.3972 - acc: 0.8352\n",
      "Epoch 49/100\n",
      "8000/8000 [==============================] - 2s 293us/step - loss: 0.3972 - acc: 0.8361\n",
      "Epoch 50/100\n",
      "8000/8000 [==============================] - 2s 293us/step - loss: 0.3970 - acc: 0.8345\n",
      "Epoch 51/100\n",
      "8000/8000 [==============================] - 2s 293us/step - loss: 0.3966 - acc: 0.8359\n",
      "Epoch 52/100\n",
      "8000/8000 [==============================] - 2s 284us/step - loss: 0.3964 - acc: 0.8369\n",
      "Epoch 53/100\n",
      "8000/8000 [==============================] - 2s 259us/step - loss: 0.3966 - acc: 0.8355\n",
      "Epoch 54/100\n",
      "8000/8000 [==============================] - 2s 264us/step - loss: 0.3961 - acc: 0.8364\n",
      "Epoch 55/100\n",
      "8000/8000 [==============================] - 2s 278us/step - loss: 0.3966 - acc: 0.8361\n",
      "Epoch 56/100\n",
      "8000/8000 [==============================] - 2s 266us/step - loss: 0.3955 - acc: 0.8376\n",
      "Epoch 57/100\n",
      "8000/8000 [==============================] - 2s 275us/step - loss: 0.3964 - acc: 0.8357\n",
      "Epoch 58/100\n",
      "8000/8000 [==============================] - 2s 286us/step - loss: 0.3961 - acc: 0.8347\n",
      "Epoch 59/100\n",
      "8000/8000 [==============================] - 2s 279us/step - loss: 0.3957 - acc: 0.8352\n",
      "Epoch 60/100\n",
      "8000/8000 [==============================] - 2s 270us/step - loss: 0.3956 - acc: 0.8356\n",
      "Epoch 61/100\n",
      "8000/8000 [==============================] - 2s 263us/step - loss: 0.3952 - acc: 0.8381\n",
      "Epoch 62/100\n",
      "8000/8000 [==============================] - 2s 262us/step - loss: 0.3946 - acc: 0.8357\n",
      "Epoch 63/100\n",
      "8000/8000 [==============================] - 2s 283us/step - loss: 0.3955 - acc: 0.8365\n",
      "Epoch 64/100\n",
      "8000/8000 [==============================] - 2s 284us/step - loss: 0.3953 - acc: 0.8357\n",
      "Epoch 65/100\n",
      "8000/8000 [==============================] - 2s 288us/step - loss: 0.3955 - acc: 0.8357\n",
      "Epoch 66/100\n"
     ]
    },
    {
     "name": "stdout",
     "output_type": "stream",
     "text": [
      "8000/8000 [==============================] - 2s 260us/step - loss: 0.3951 - acc: 0.8366\n",
      "Epoch 67/100\n",
      "8000/8000 [==============================] - 2s 252us/step - loss: 0.3952 - acc: 0.8354\n",
      "Epoch 68/100\n",
      "8000/8000 [==============================] - 2s 252us/step - loss: 0.3951 - acc: 0.8369\n",
      "Epoch 69/100\n",
      "8000/8000 [==============================] - 2s 257us/step - loss: 0.3949 - acc: 0.8371\n",
      "Epoch 70/100\n",
      "8000/8000 [==============================] - 2s 257us/step - loss: 0.3956 - acc: 0.8357\n",
      "Epoch 71/100\n",
      "8000/8000 [==============================] - 2s 279us/step - loss: 0.3947 - acc: 0.8380\n",
      "Epoch 72/100\n",
      "8000/8000 [==============================] - 2s 264us/step - loss: 0.3945 - acc: 0.8360\n",
      "Epoch 73/100\n",
      "8000/8000 [==============================] - 2s 237us/step - loss: 0.3948 - acc: 0.8359\n",
      "Epoch 74/100\n",
      "8000/8000 [==============================] - 2s 269us/step - loss: 0.3949 - acc: 0.8386\n",
      "Epoch 75/100\n",
      "8000/8000 [==============================] - 2s 261us/step - loss: 0.3946 - acc: 0.8377\n",
      "Epoch 76/100\n",
      "8000/8000 [==============================] - 2s 266us/step - loss: 0.3951 - acc: 0.8364\n",
      "Epoch 77/100\n",
      "8000/8000 [==============================] - 2s 273us/step - loss: 0.3947 - acc: 0.8389\n",
      "Epoch 78/100\n",
      "8000/8000 [==============================] - 2s 272us/step - loss: 0.3948 - acc: 0.8376\n",
      "Epoch 79/100\n",
      "8000/8000 [==============================] - 2s 268us/step - loss: 0.3949 - acc: 0.8377\n",
      "Epoch 80/100\n",
      "8000/8000 [==============================] - 2s 265us/step - loss: 0.3947 - acc: 0.8384\n",
      "Epoch 81/100\n",
      "8000/8000 [==============================] - 2s 268us/step - loss: 0.3950 - acc: 0.8375\n",
      "Epoch 82/100\n",
      "8000/8000 [==============================] - 2s 264us/step - loss: 0.3949 - acc: 0.8360\n",
      "Epoch 83/100\n",
      "8000/8000 [==============================] - 2s 263us/step - loss: 0.3946 - acc: 0.8360\n",
      "Epoch 84/100\n",
      "8000/8000 [==============================] - 2s 257us/step - loss: 0.3948 - acc: 0.8362\n",
      "Epoch 85/100\n",
      "8000/8000 [==============================] - 2s 254us/step - loss: 0.3943 - acc: 0.8377\n",
      "Epoch 86/100\n",
      "8000/8000 [==============================] - 2s 256us/step - loss: 0.3947 - acc: 0.8374\n",
      "Epoch 87/100\n",
      "8000/8000 [==============================] - 2s 257us/step - loss: 0.3944 - acc: 0.8364\n",
      "Epoch 88/100\n",
      "8000/8000 [==============================] - 2s 257us/step - loss: 0.3942 - acc: 0.8354\n",
      "Epoch 89/100\n",
      "8000/8000 [==============================] - 2s 257us/step - loss: 0.3945 - acc: 0.8377\n",
      "Epoch 90/100\n",
      "8000/8000 [==============================] - 2s 261us/step - loss: 0.3947 - acc: 0.8354\n",
      "Epoch 91/100\n",
      "8000/8000 [==============================] - 2s 254us/step - loss: 0.3938 - acc: 0.8364\n",
      "Epoch 92/100\n",
      "8000/8000 [==============================] - 2s 252us/step - loss: 0.3944 - acc: 0.8385\n",
      "Epoch 93/100\n",
      "8000/8000 [==============================] - 2s 254us/step - loss: 0.3945 - acc: 0.8391\n",
      "Epoch 94/100\n",
      "8000/8000 [==============================] - 2s 248us/step - loss: 0.3943 - acc: 0.8352\n",
      "Epoch 95/100\n",
      "8000/8000 [==============================] - 2s 257us/step - loss: 0.3943 - acc: 0.8354\n",
      "Epoch 96/100\n",
      "8000/8000 [==============================] - 2s 270us/step - loss: 0.3943 - acc: 0.8381\n",
      "Epoch 97/100\n",
      "8000/8000 [==============================] - 2s 266us/step - loss: 0.3943 - acc: 0.8371\n",
      "Epoch 98/100\n",
      "8000/8000 [==============================] - 2s 263us/step - loss: 0.3943 - acc: 0.8362\n",
      "Epoch 99/100\n",
      "8000/8000 [==============================] - 2s 262us/step - loss: 0.3942 - acc: 0.8379\n",
      "Epoch 100/100\n",
      "8000/8000 [==============================] - 2s 264us/step - loss: 0.3945 - acc: 0.8374\n"
     ]
    },
    {
     "data": {
      "text/plain": [
       "<keras.callbacks.History at 0x7dff5f9108>"
      ]
     },
     "execution_count": 56,
     "metadata": {},
     "output_type": "execute_result"
    }
   ],
   "source": [
    "#updating the weights after a batch of observations\n",
    "#by experiment need to find the optimal batch size and no of epoch, there is no thumb rule of optimal values\n",
    "# Fitting the ANN to the Training set\n",
    "classifier.fit(X_train, y_train, batch_size = 10, nb_epoch = 100)"
   ]
  },
  {
   "cell_type": "code",
   "execution_count": 62,
   "metadata": {},
   "outputs": [],
   "source": [
    "# Part 3 - Making the predictions and evaluating the model\n",
    "\n",
    "# Predicting the Test set results\n",
    "y_pred = classifier.predict(X_test)\n",
    "y_pred = (y_pred > 0.5)"
   ]
  },
  {
   "cell_type": "code",
   "execution_count": 63,
   "metadata": {},
   "outputs": [
    {
     "data": {
      "text/plain": [
       "array([[False],\n",
       "       [False],\n",
       "       [False],\n",
       "       ...,\n",
       "       [False],\n",
       "       [False],\n",
       "       [False]])"
      ]
     },
     "execution_count": 63,
     "metadata": {},
     "output_type": "execute_result"
    }
   ],
   "source": [
    "y_pred"
   ]
  },
  {
   "cell_type": "code",
   "execution_count": 64,
   "metadata": {},
   "outputs": [],
   "source": [
    "# Making the Confusion Matrix\n",
    "from sklearn.metrics import confusion_matrix\n",
    "cm = confusion_matrix(y_test, y_pred)"
   ]
  },
  {
   "cell_type": "code",
   "execution_count": 65,
   "metadata": {},
   "outputs": [
    {
     "data": {
      "text/plain": [
       "array([[1559,   36],\n",
       "       [ 278,  127]], dtype=int64)"
      ]
     },
     "execution_count": 65,
     "metadata": {},
     "output_type": "execute_result"
    }
   ],
   "source": [
    "cm"
   ]
  },
  {
   "cell_type": "code",
   "execution_count": null,
   "metadata": {},
   "outputs": [],
   "source": []
  }
 ],
 "metadata": {
  "kernelspec": {
   "display_name": "Python 3",
   "language": "python",
   "name": "python3"
  },
  "language_info": {
   "codemirror_mode": {
    "name": "ipython",
    "version": 3
   },
   "file_extension": ".py",
   "mimetype": "text/x-python",
   "name": "python",
   "nbconvert_exporter": "python",
   "pygments_lexer": "ipython3",
   "version": "3.7.4"
  }
 },
 "nbformat": 4,
 "nbformat_minor": 2
}
