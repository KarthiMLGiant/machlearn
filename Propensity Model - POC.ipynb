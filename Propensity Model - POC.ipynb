{
 "cells": [
  {
   "cell_type": "code",
   "execution_count": 1,
   "metadata": {},
   "outputs": [],
   "source": [
    "import matplotlib.pyplot as plt\n",
    "from sklearn import linear_model\n",
    "from sklearn.model_selection import train_test_split\n",
    "#from sklearn.cross_validation import cross_val_score\n",
    "from sklearn.ensemble import RandomForestClassifier\n",
    "from sklearn.naive_bayes import GaussianNB\n",
    "import seaborn as sns\n",
    "import pandas as pd\n",
    "import numpy as np\n",
    "%matplotlib inline"
   ]
  },
  {
   "cell_type": "code",
   "execution_count": 2,
   "metadata": {},
   "outputs": [],
   "source": [
    "def map_score(dataframe,customers,prob):\n",
    "    dataframe['Propensity'] = 0\n",
    "    for i in range(len(dataframe)):\n",
    "        idx = dataframe.index[i]\n",
    "        for j in range(len(customers)):\n",
    "            if dataframe.loc[idx,'Client'] == customers[j]:\n",
    "                dataframe.loc[idx, \"Propensity\"] = prob[j]"
   ]
  },
  {
   "cell_type": "code",
   "execution_count": 5,
   "metadata": {},
   "outputs": [
    {
     "data": {
      "text/html": [
       "<div>\n",
       "<style scoped>\n",
       "    .dataframe tbody tr th:only-of-type {\n",
       "        vertical-align: middle;\n",
       "    }\n",
       "\n",
       "    .dataframe tbody tr th {\n",
       "        vertical-align: top;\n",
       "    }\n",
       "\n",
       "    .dataframe thead th {\n",
       "        text-align: right;\n",
       "    }\n",
       "</style>\n",
       "<table border=\"1\" class=\"dataframe\">\n",
       "  <thead>\n",
       "    <tr style=\"text-align: right;\">\n",
       "      <th></th>\n",
       "      <th>Client</th>\n",
       "      <th>Sex</th>\n",
       "      <th>Age</th>\n",
       "      <th>Tenure</th>\n",
       "      <th>Count_CA</th>\n",
       "      <th>Count_SA</th>\n",
       "      <th>Count_MF</th>\n",
       "      <th>Count_OVD</th>\n",
       "      <th>Count_CC</th>\n",
       "      <th>Count_CL</th>\n",
       "      <th>...</th>\n",
       "      <th>TransactionsDeb_CA</th>\n",
       "      <th>TransactionsDebCash_Card</th>\n",
       "      <th>TransactionsDebCashless_Card</th>\n",
       "      <th>TransactionsDeb_PaymentOrder</th>\n",
       "      <th>Sale_MF</th>\n",
       "      <th>Sale_CC</th>\n",
       "      <th>Sale_CL</th>\n",
       "      <th>Revenue_MF</th>\n",
       "      <th>Revenue_CC</th>\n",
       "      <th>Revenue_CL</th>\n",
       "    </tr>\n",
       "  </thead>\n",
       "  <tbody>\n",
       "    <tr>\n",
       "      <td>0</td>\n",
       "      <td>1</td>\n",
       "      <td>F</td>\n",
       "      <td>51</td>\n",
       "      <td>7</td>\n",
       "      <td>1</td>\n",
       "      <td>0</td>\n",
       "      <td>0</td>\n",
       "      <td>1</td>\n",
       "      <td>0</td>\n",
       "      <td>0</td>\n",
       "      <td>...</td>\n",
       "      <td>30.0</td>\n",
       "      <td>3.0</td>\n",
       "      <td>12.0</td>\n",
       "      <td>9.0</td>\n",
       "      <td>1.0</td>\n",
       "      <td>0.0</td>\n",
       "      <td>0.0</td>\n",
       "      <td>26.972679</td>\n",
       "      <td>0.0</td>\n",
       "      <td>0.0</td>\n",
       "    </tr>\n",
       "    <tr>\n",
       "      <td>1</td>\n",
       "      <td>2</td>\n",
       "      <td>M</td>\n",
       "      <td>43</td>\n",
       "      <td>152</td>\n",
       "      <td>1</td>\n",
       "      <td>1</td>\n",
       "      <td>0</td>\n",
       "      <td>0</td>\n",
       "      <td>0</td>\n",
       "      <td>0</td>\n",
       "      <td>...</td>\n",
       "      <td>6.0</td>\n",
       "      <td>2.0</td>\n",
       "      <td>2.0</td>\n",
       "      <td>1.0</td>\n",
       "      <td>0.0</td>\n",
       "      <td>0.0</td>\n",
       "      <td>0.0</td>\n",
       "      <td>0.000000</td>\n",
       "      <td>0.0</td>\n",
       "      <td>0.0</td>\n",
       "    </tr>\n",
       "    <tr>\n",
       "      <td>2</td>\n",
       "      <td>3</td>\n",
       "      <td>M</td>\n",
       "      <td>17</td>\n",
       "      <td>140</td>\n",
       "      <td>1</td>\n",
       "      <td>0</td>\n",
       "      <td>1</td>\n",
       "      <td>0</td>\n",
       "      <td>0</td>\n",
       "      <td>0</td>\n",
       "      <td>...</td>\n",
       "      <td>3.0</td>\n",
       "      <td>0.0</td>\n",
       "      <td>1.0</td>\n",
       "      <td>1.0</td>\n",
       "      <td>NaN</td>\n",
       "      <td>NaN</td>\n",
       "      <td>NaN</td>\n",
       "      <td>NaN</td>\n",
       "      <td>NaN</td>\n",
       "      <td>NaN</td>\n",
       "    </tr>\n",
       "    <tr>\n",
       "      <td>3</td>\n",
       "      <td>4</td>\n",
       "      <td>M</td>\n",
       "      <td>24</td>\n",
       "      <td>153</td>\n",
       "      <td>1</td>\n",
       "      <td>1</td>\n",
       "      <td>0</td>\n",
       "      <td>0</td>\n",
       "      <td>1</td>\n",
       "      <td>0</td>\n",
       "      <td>...</td>\n",
       "      <td>36.0</td>\n",
       "      <td>6.0</td>\n",
       "      <td>12.0</td>\n",
       "      <td>13.0</td>\n",
       "      <td>NaN</td>\n",
       "      <td>NaN</td>\n",
       "      <td>NaN</td>\n",
       "      <td>NaN</td>\n",
       "      <td>NaN</td>\n",
       "      <td>NaN</td>\n",
       "    </tr>\n",
       "    <tr>\n",
       "      <td>4</td>\n",
       "      <td>5</td>\n",
       "      <td>F</td>\n",
       "      <td>58</td>\n",
       "      <td>200</td>\n",
       "      <td>1</td>\n",
       "      <td>1</td>\n",
       "      <td>0</td>\n",
       "      <td>0</td>\n",
       "      <td>0</td>\n",
       "      <td>0</td>\n",
       "      <td>...</td>\n",
       "      <td>41.0</td>\n",
       "      <td>4.0</td>\n",
       "      <td>17.0</td>\n",
       "      <td>13.0</td>\n",
       "      <td>NaN</td>\n",
       "      <td>NaN</td>\n",
       "      <td>NaN</td>\n",
       "      <td>NaN</td>\n",
       "      <td>NaN</td>\n",
       "      <td>NaN</td>\n",
       "    </tr>\n",
       "  </tbody>\n",
       "</table>\n",
       "<p>5 rows × 36 columns</p>\n",
       "</div>"
      ],
      "text/plain": [
       "   Client Sex  Age  Tenure  Count_CA  Count_SA  Count_MF  Count_OVD  Count_CC  \\\n",
       "0       1   F   51       7         1         0         0          1         0   \n",
       "1       2   M   43     152         1         1         0          0         0   \n",
       "2       3   M   17     140         1         0         1          0         0   \n",
       "3       4   M   24     153         1         1         0          0         1   \n",
       "4       5   F   58     200         1         1         0          0         0   \n",
       "\n",
       "   Count_CL  ...  TransactionsDeb_CA  TransactionsDebCash_Card  \\\n",
       "0         0  ...                30.0                       3.0   \n",
       "1         0  ...                 6.0                       2.0   \n",
       "2         0  ...                 3.0                       0.0   \n",
       "3         0  ...                36.0                       6.0   \n",
       "4         0  ...                41.0                       4.0   \n",
       "\n",
       "   TransactionsDebCashless_Card  TransactionsDeb_PaymentOrder  Sale_MF  \\\n",
       "0                          12.0                           9.0      1.0   \n",
       "1                           2.0                           1.0      0.0   \n",
       "2                           1.0                           1.0      NaN   \n",
       "3                          12.0                          13.0      NaN   \n",
       "4                          17.0                          13.0      NaN   \n",
       "\n",
       "   Sale_CC  Sale_CL  Revenue_MF  Revenue_CC  Revenue_CL  \n",
       "0      0.0      0.0   26.972679         0.0         0.0  \n",
       "1      0.0      0.0    0.000000         0.0         0.0  \n",
       "2      NaN      NaN         NaN         NaN         NaN  \n",
       "3      NaN      NaN         NaN         NaN         NaN  \n",
       "4      NaN      NaN         NaN         NaN         NaN  \n",
       "\n",
       "[5 rows x 36 columns]"
      ]
     },
     "execution_count": 5,
     "metadata": {},
     "output_type": "execute_result"
    }
   ],
   "source": [
    "df_kbc_bank = pd.read_csv(r\"\\bank.csv\")\n",
    "df_kbc_bank.head() "
   ]
  },
  {
   "cell_type": "code",
   "execution_count": 6,
   "metadata": {},
   "outputs": [
    {
     "data": {
      "text/plain": [
       "Index(['Client', 'Sex', 'Age', 'Tenure', 'Count_CA', 'Count_SA', 'Count_MF',\n",
       "       'Count_OVD', 'Count_CC', 'Count_CL', 'ActBal_CA', 'ActBal_SA',\n",
       "       'ActBal_MF', 'ActBal_OVD', 'ActBal_CC', 'ActBal_CL', 'VolumeCred',\n",
       "       'VolumeCred_CA', 'TransactionsCred', 'TransactionsCred_CA', 'VolumeDeb',\n",
       "       'VolumeDeb_CA', 'VolumeDebCash_Card', 'VolumeDebCashless_Card',\n",
       "       'VolumeDeb_PaymentOrder', 'TransactionsDeb', 'TransactionsDeb_CA',\n",
       "       'TransactionsDebCash_Card', 'TransactionsDebCashless_Card',\n",
       "       'TransactionsDeb_PaymentOrder', 'Sale_MF', 'Sale_CC', 'Sale_CL',\n",
       "       'Revenue_MF', 'Revenue_CC', 'Revenue_CL'],\n",
       "      dtype='object')"
      ]
     },
     "execution_count": 6,
     "metadata": {},
     "output_type": "execute_result"
    }
   ],
   "source": [
    "df_kbc_bank.columns"
   ]
  },
  {
   "cell_type": "code",
   "execution_count": 7,
   "metadata": {},
   "outputs": [
    {
     "data": {
      "text/plain": [
       "1615"
      ]
     },
     "execution_count": 7,
     "metadata": {},
     "output_type": "execute_result"
    }
   ],
   "source": [
    "df_kbc_bank['Client'].nunique()"
   ]
  },
  {
   "cell_type": "code",
   "execution_count": 8,
   "metadata": {},
   "outputs": [],
   "source": [
    "cust_req = pd.DataFrame({'Category': {0: 'Credit', 1: 'Loan',2:'Mutual Fund'}, 'Sum': {0: float(df_kbc_bank[[\"Sale_CC\"]].sum()),\n",
    "1:float(df_kbc_bank[[\"Sale_CL\"]].sum()),2:float(df_kbc_bank[[\"Sale_MF\"]].sum()) }})"
   ]
  },
  {
   "cell_type": "code",
   "execution_count": 9,
   "metadata": {},
   "outputs": [
    {
     "data": {
      "text/html": [
       "<div>\n",
       "<style scoped>\n",
       "    .dataframe tbody tr th:only-of-type {\n",
       "        vertical-align: middle;\n",
       "    }\n",
       "\n",
       "    .dataframe tbody tr th {\n",
       "        vertical-align: top;\n",
       "    }\n",
       "\n",
       "    .dataframe thead th {\n",
       "        text-align: right;\n",
       "    }\n",
       "</style>\n",
       "<table border=\"1\" class=\"dataframe\">\n",
       "  <thead>\n",
       "    <tr style=\"text-align: right;\">\n",
       "      <th></th>\n",
       "      <th>Category</th>\n",
       "      <th>Sum</th>\n",
       "    </tr>\n",
       "  </thead>\n",
       "  <tbody>\n",
       "    <tr>\n",
       "      <td>0</td>\n",
       "      <td>Credit</td>\n",
       "      <td>242.0</td>\n",
       "    </tr>\n",
       "    <tr>\n",
       "      <td>1</td>\n",
       "      <td>Loan</td>\n",
       "      <td>290.0</td>\n",
       "    </tr>\n",
       "    <tr>\n",
       "      <td>2</td>\n",
       "      <td>Mutual Fund</td>\n",
       "      <td>193.0</td>\n",
       "    </tr>\n",
       "  </tbody>\n",
       "</table>\n",
       "</div>"
      ],
      "text/plain": [
       "      Category    Sum\n",
       "0       Credit  242.0\n",
       "1         Loan  290.0\n",
       "2  Mutual Fund  193.0"
      ]
     },
     "execution_count": 9,
     "metadata": {},
     "output_type": "execute_result"
    }
   ],
   "source": [
    "cust_req.head()"
   ]
  },
  {
   "cell_type": "code",
   "execution_count": 10,
   "metadata": {},
   "outputs": [
    {
     "data": {
      "text/plain": [
       "Text(0, 0.5, 'Products for Marketing')"
      ]
     },
     "execution_count": 10,
     "metadata": {},
     "output_type": "execute_result"
    },
    {
     "data": {
      "image/png": "[encoded data removed]",
      "text/plain": [
       "<Figure size 432x288 with 1 Axes>"
      ]
     },
     "metadata": {
      "needs_background": "light"
     },
     "output_type": "display_data"
    }
   ],
   "source": [
    "sns.barplot(x = 'Sum', y = 'Category', data = cust_req)\n",
    "plt.title('Requirement of Customers')\n",
    "plt.xlabel('Count')\n",
    "plt.ylabel('Products for Marketing')"
   ]
  },
  {
   "cell_type": "code",
   "execution_count": 11,
   "metadata": {},
   "outputs": [
    {
     "name": "stdout",
     "output_type": "stream",
     "text": [
      "Sale_CL                         1.000000\n",
      "Revenue_CL                      0.709623\n",
      "Tenure                          0.182954\n",
      "TransactionsCred_CA             0.084930\n",
      "TransactionsCred                0.083528\n",
      "Count_CA                        0.083067\n",
      "TransactionsDebCash_Card        0.076641\n",
      "ActBal_MF                       0.073530\n",
      "TransactionsDeb                 0.068460\n",
      "ActBal_OVD                      0.066445\n",
      "TransactionsDeb_CA              0.064593\n",
      "VolumeDeb                       0.061754\n",
      "Count_CL                        0.052065\n",
      "VolumeDeb_PaymentOrder          0.051462\n",
      "ActBal_CL                       0.050732\n",
      "TransactionsDeb_PaymentOrder    0.049147\n",
      "Client                          0.044932\n",
      "Count_MF                        0.044770\n",
      "VolumeDeb_CA                    0.039795\n",
      "VolumeDebCashless_Card          0.038015\n",
      "Count_OVD                       0.035477\n",
      "Count_SA                        0.028808\n",
      "VolumeDebCash_Card              0.015739\n",
      "TransactionsDebCashless_Card    0.014826\n",
      "Revenue_MF                      0.013732\n",
      "VolumeCred                      0.005363\n",
      "Revenue_CC                     -0.004460\n",
      "VolumeCred_CA                  -0.006783\n",
      "Sale_MF                        -0.014640\n",
      "Sale_CC                        -0.015483\n",
      "Count_CC                       -0.017058\n",
      "ActBal_SA                      -0.046211\n",
      "ActBal_CA                      -0.055972\n",
      "ActBal_CC                      -0.076518\n",
      "Age                            -0.175033\n",
      "Name: Sale_CL, dtype: float64\n"
     ]
    }
   ],
   "source": [
    "df_kbc_bank = df_kbc_bank.dropna()\n",
    "corr = df_kbc_bank.corr()\n",
    "corr.sort_values([\"Sale_CL\"], ascending = False, inplace = True)\n",
    "print(corr.Sale_CL)"
   ]
  },
  {
   "cell_type": "code",
   "execution_count": 12,
   "metadata": {},
   "outputs": [
    {
     "data": {
      "text/html": [
       "<div>\n",
       "<style scoped>\n",
       "    .dataframe tbody tr th:only-of-type {\n",
       "        vertical-align: middle;\n",
       "    }\n",
       "\n",
       "    .dataframe tbody tr th {\n",
       "        vertical-align: top;\n",
       "    }\n",
       "\n",
       "    .dataframe thead th {\n",
       "        text-align: right;\n",
       "    }\n",
       "</style>\n",
       "<table border=\"1\" class=\"dataframe\">\n",
       "  <thead>\n",
       "    <tr style=\"text-align: right;\">\n",
       "      <th></th>\n",
       "      <th>Tenure</th>\n",
       "      <th>TransactionsCred_CA</th>\n",
       "      <th>Count_CA</th>\n",
       "      <th>TransactionsCred</th>\n",
       "      <th>TransactionsDebCash_Card</th>\n",
       "      <th>ActBal_CC</th>\n",
       "      <th>Age</th>\n",
       "      <th>Client</th>\n",
       "      <th>Sale_CL</th>\n",
       "      <th>Revenue_CL</th>\n",
       "    </tr>\n",
       "  </thead>\n",
       "  <tbody>\n",
       "    <tr>\n",
       "      <td>0</td>\n",
       "      <td>7</td>\n",
       "      <td>23.0</td>\n",
       "      <td>1</td>\n",
       "      <td>25.0</td>\n",
       "      <td>3.0</td>\n",
       "      <td>0.0</td>\n",
       "      <td>51</td>\n",
       "      <td>1</td>\n",
       "      <td>0.0</td>\n",
       "      <td>0.0</td>\n",
       "    </tr>\n",
       "    <tr>\n",
       "      <td>1</td>\n",
       "      <td>152</td>\n",
       "      <td>3.0</td>\n",
       "      <td>1</td>\n",
       "      <td>4.0</td>\n",
       "      <td>2.0</td>\n",
       "      <td>0.0</td>\n",
       "      <td>43</td>\n",
       "      <td>2</td>\n",
       "      <td>0.0</td>\n",
       "      <td>0.0</td>\n",
       "    </tr>\n",
       "    <tr>\n",
       "      <td>5</td>\n",
       "      <td>19</td>\n",
       "      <td>2.0</td>\n",
       "      <td>1</td>\n",
       "      <td>3.0</td>\n",
       "      <td>1.0</td>\n",
       "      <td>0.0</td>\n",
       "      <td>24</td>\n",
       "      <td>6</td>\n",
       "      <td>0.0</td>\n",
       "      <td>0.0</td>\n",
       "    </tr>\n",
       "    <tr>\n",
       "      <td>7</td>\n",
       "      <td>30</td>\n",
       "      <td>21.0</td>\n",
       "      <td>1</td>\n",
       "      <td>25.0</td>\n",
       "      <td>10.0</td>\n",
       "      <td>0.0</td>\n",
       "      <td>64</td>\n",
       "      <td>8</td>\n",
       "      <td>0.0</td>\n",
       "      <td>0.0</td>\n",
       "    </tr>\n",
       "    <tr>\n",
       "      <td>12</td>\n",
       "      <td>132</td>\n",
       "      <td>3.0</td>\n",
       "      <td>1</td>\n",
       "      <td>6.0</td>\n",
       "      <td>6.0</td>\n",
       "      <td>0.0</td>\n",
       "      <td>66</td>\n",
       "      <td>13</td>\n",
       "      <td>0.0</td>\n",
       "      <td>0.0</td>\n",
       "    </tr>\n",
       "  </tbody>\n",
       "</table>\n",
       "</div>"
      ],
      "text/plain": [
       "    Tenure  TransactionsCred_CA  Count_CA  TransactionsCred  \\\n",
       "0        7                 23.0         1              25.0   \n",
       "1      152                  3.0         1               4.0   \n",
       "5       19                  2.0         1               3.0   \n",
       "7       30                 21.0         1              25.0   \n",
       "12     132                  3.0         1               6.0   \n",
       "\n",
       "    TransactionsDebCash_Card  ActBal_CC  Age  Client  Sale_CL  Revenue_CL  \n",
       "0                        3.0        0.0   51       1      0.0         0.0  \n",
       "1                        2.0        0.0   43       2      0.0         0.0  \n",
       "5                        1.0        0.0   24       6      0.0         0.0  \n",
       "7                       10.0        0.0   64       8      0.0         0.0  \n",
       "12                       6.0        0.0   66      13      0.0         0.0  "
      ]
     },
     "execution_count": 12,
     "metadata": {},
     "output_type": "execute_result"
    }
   ],
   "source": [
    "data_loan = df_kbc_bank[['Tenure','TransactionsCred_CA','Count_CA','TransactionsCred','TransactionsDebCash_Card','ActBal_CC','Age','Client','Sale_CL','Revenue_CL']]\n",
    "#len(data_loan)\n",
    "data_loan.head()"
   ]
  },
  {
   "cell_type": "code",
   "execution_count": 13,
   "metadata": {},
   "outputs": [],
   "source": [
    "X = data_loan.loc[:,'Tenure':'Client'].values # as_matrix() is deprecated hence replaced with .values \n",
    "y = data_loan.Sale_CL.values"
   ]
  },
  {
   "cell_type": "code",
   "execution_count": 18,
   "metadata": {},
   "outputs": [
    {
     "data": {
      "text/plain": [
       "Text(0.5, 1, 'Correlation between the selected Features')"
      ]
     },
     "execution_count": 18,
     "metadata": {},
     "output_type": "execute_result"
    },
    {
     "data": {
      "image/png": "[encoded data removed]",
      "text/plain": [
       "<Figure size 720x720 with 2 Axes>"
      ]
     },
     "metadata": {
      "needs_background": "light"
     },
     "output_type": "display_data"
    }
   ],
   "source": [
    "Corr_Loan = data_loan.corr()\n",
    "plt.figure(figsize=(10,10))\n",
    "sns.heatmap(Corr_Loan, vmax=1, square=True,annot=True,cmap='bwr')\n",
    "plt.title('Correlation between the selected Features')"
   ]
  },
  {
   "cell_type": "code",
   "execution_count": 19,
   "metadata": {},
   "outputs": [],
   "source": [
    "X_train, X_test, y_train, y_test = train_test_split(X,y, test_size=0.15, random_state=42)"
   ]
  },
  {
   "cell_type": "code",
   "execution_count": 23,
   "metadata": {},
   "outputs": [
    {
     "name": "stdout",
     "output_type": "stream",
     "text": [
      "Accuracy = 0.6153846153846154\n"
     ]
    },
    {
     "name": "stderr",
     "output_type": "stream",
     "text": [
      "D:\\ANACONDA\\Anaconda\\lib\\site-packages\\sklearn\\linear_model\\_logistic.py:939: ConvergenceWarning: lbfgs failed to converge (status=1):\n",
      "STOP: TOTAL NO. of ITERATIONS REACHED LIMIT.\n",
      "\n",
      "Increase the number of iterations (max_iter) or scale the data as shown in:\n",
      "    https://scikit-learn.org/stable/modules/preprocessing.html.\n",
      "Please also refer to the documentation for alternative solver options:\n",
      "    https://scikit-learn.org/stable/modules/linear_model.html#logistic-regression\n",
      "  extra_warning_msg=_LOGISTIC_SOLVER_CONVERGENCE_MSG)\n"
     ]
    }
   ],
   "source": [
    "logistic = linear_model.LogisticRegression(penalty='l2',C=1,class_weight='balanced')\n",
    "logistic = logistic.fit(X_train, y_train)\n",
    "print(\"Accuracy = \"+str(logistic.score(X_test,y_test)))"
   ]
  },
  {
   "cell_type": "code",
   "execution_count": 24,
   "metadata": {},
   "outputs": [
    {
     "data": {
      "text/plain": [
       "array([0.53433696, 0.25043537, 0.64653443, 0.64766277, 0.75022929,\n",
       "       0.49377462, 0.56752413, 0.57417542, 0.51814938, 0.32648856,\n",
       "       0.12900529, 0.47238466, 0.5851252 , 0.381038  , 0.32453833,\n",
       "       0.40084125, 0.47581843, 0.5150673 , 0.57834667, 0.66795012,\n",
       "       0.40479753, 0.58787001, 0.55146391, 0.22415417, 0.46101888,\n",
       "       0.67874253, 0.62917276, 0.60815699, 0.23121693, 0.42794418,\n",
       "       0.46159649, 0.51800097, 0.42286203, 0.48227248, 0.14357637,\n",
       "       0.47884065, 0.44077526, 0.58040645, 0.7648621 , 0.40446181,\n",
       "       0.38327556, 0.42445593, 0.28773008, 0.40128822, 0.28626701,\n",
       "       0.41547254, 0.46531698, 0.31097373, 0.41916125, 0.62304697,\n",
       "       0.34442909, 0.4902759 , 0.57839496, 0.60143444, 0.42569899,\n",
       "       0.61765475, 0.55020775, 0.3175495 , 0.60867287, 0.71753399,\n",
       "       0.46097869, 0.80789579, 0.61353194, 0.68474981, 0.27539556,\n",
       "       0.63037878, 0.73415453, 0.17633841, 0.40028843, 0.28120634,\n",
       "       0.45435846, 0.31745607, 0.63837503, 0.45726166, 0.46497012,\n",
       "       0.56632243, 0.31172406, 0.59939357, 0.56516895, 0.60192559,\n",
       "       0.57811352, 0.63209207, 0.56757746, 0.49188335, 0.46040975,\n",
       "       0.68723049, 0.4742402 , 0.42728272, 0.38361837, 0.46651649,\n",
       "       0.3409172 , 0.53130607, 0.49219891, 0.59365693, 0.73950783,\n",
       "       0.48309412, 0.5576339 , 0.18685388, 0.14107457, 0.37414182,\n",
       "       0.60562762, 0.62667826, 0.58142037, 0.64264746, 0.60098743,\n",
       "       0.56299182, 0.4274714 , 0.68965352, 0.70118145, 0.55385813,\n",
       "       0.66860025, 0.47363791, 0.21445344, 0.26324773, 0.66285646,\n",
       "       0.63042625, 0.76487114, 0.6596637 , 0.31767252, 0.27485268,\n",
       "       0.8454501 , 0.24116688, 0.74821305, 0.50123767, 0.4320952 ,\n",
       "       0.55781988, 0.26716095, 0.56431164, 0.39784813, 0.28915821,\n",
       "       0.42150105, 0.54889751, 0.30329441, 0.30308444, 0.30170546,\n",
       "       0.44276214, 0.53557745, 0.26575466, 0.29257619, 0.28212042,\n",
       "       0.38283669, 0.55046693, 0.62136538])"
      ]
     },
     "execution_count": 24,
     "metadata": {},
     "output_type": "execute_result"
    }
   ],
   "source": [
    "pscore = logistic.predict_proba(X_test)[:,1]  # The predicted propensities by the model\n",
    "pscore"
   ]
  },
  {
   "cell_type": "code",
   "execution_count": 25,
   "metadata": {},
   "outputs": [],
   "source": [
    "Clients = X_test[:,-1]"
   ]
  },
  {
   "cell_type": "code",
   "execution_count": 26,
   "metadata": {},
   "outputs": [
    {
     "data": {
      "text/html": [
       "<div>\n",
       "<style scoped>\n",
       "    .dataframe tbody tr th:only-of-type {\n",
       "        vertical-align: middle;\n",
       "    }\n",
       "\n",
       "    .dataframe tbody tr th {\n",
       "        vertical-align: top;\n",
       "    }\n",
       "\n",
       "    .dataframe thead th {\n",
       "        text-align: right;\n",
       "    }\n",
       "</style>\n",
       "<table border=\"1\" class=\"dataframe\">\n",
       "  <thead>\n",
       "    <tr style=\"text-align: right;\">\n",
       "      <th></th>\n",
       "      <th>Tenure</th>\n",
       "      <th>TransactionsCred_CA</th>\n",
       "      <th>Count_CA</th>\n",
       "      <th>TransactionsCred</th>\n",
       "      <th>TransactionsDebCash_Card</th>\n",
       "      <th>ActBal_CC</th>\n",
       "      <th>Age</th>\n",
       "      <th>Client</th>\n",
       "      <th>Sale_CL</th>\n",
       "      <th>Revenue_CL</th>\n",
       "    </tr>\n",
       "  </thead>\n",
       "  <tbody>\n",
       "    <tr>\n",
       "      <td>0</td>\n",
       "      <td>7</td>\n",
       "      <td>23.0</td>\n",
       "      <td>1</td>\n",
       "      <td>25.0</td>\n",
       "      <td>3.0</td>\n",
       "      <td>0.0</td>\n",
       "      <td>51</td>\n",
       "      <td>1</td>\n",
       "      <td>0.0</td>\n",
       "      <td>0.0</td>\n",
       "    </tr>\n",
       "    <tr>\n",
       "      <td>1</td>\n",
       "      <td>152</td>\n",
       "      <td>3.0</td>\n",
       "      <td>1</td>\n",
       "      <td>4.0</td>\n",
       "      <td>2.0</td>\n",
       "      <td>0.0</td>\n",
       "      <td>43</td>\n",
       "      <td>2</td>\n",
       "      <td>0.0</td>\n",
       "      <td>0.0</td>\n",
       "    </tr>\n",
       "    <tr>\n",
       "      <td>5</td>\n",
       "      <td>19</td>\n",
       "      <td>2.0</td>\n",
       "      <td>1</td>\n",
       "      <td>3.0</td>\n",
       "      <td>1.0</td>\n",
       "      <td>0.0</td>\n",
       "      <td>24</td>\n",
       "      <td>6</td>\n",
       "      <td>0.0</td>\n",
       "      <td>0.0</td>\n",
       "    </tr>\n",
       "    <tr>\n",
       "      <td>7</td>\n",
       "      <td>30</td>\n",
       "      <td>21.0</td>\n",
       "      <td>1</td>\n",
       "      <td>25.0</td>\n",
       "      <td>10.0</td>\n",
       "      <td>0.0</td>\n",
       "      <td>64</td>\n",
       "      <td>8</td>\n",
       "      <td>0.0</td>\n",
       "      <td>0.0</td>\n",
       "    </tr>\n",
       "    <tr>\n",
       "      <td>12</td>\n",
       "      <td>132</td>\n",
       "      <td>3.0</td>\n",
       "      <td>1</td>\n",
       "      <td>6.0</td>\n",
       "      <td>6.0</td>\n",
       "      <td>0.0</td>\n",
       "      <td>66</td>\n",
       "      <td>13</td>\n",
       "      <td>0.0</td>\n",
       "      <td>0.0</td>\n",
       "    </tr>\n",
       "  </tbody>\n",
       "</table>\n",
       "</div>"
      ],
      "text/plain": [
       "    Tenure  TransactionsCred_CA  Count_CA  TransactionsCred  \\\n",
       "0        7                 23.0         1              25.0   \n",
       "1      152                  3.0         1               4.0   \n",
       "5       19                  2.0         1               3.0   \n",
       "7       30                 21.0         1              25.0   \n",
       "12     132                  3.0         1               6.0   \n",
       "\n",
       "    TransactionsDebCash_Card  ActBal_CC  Age  Client  Sale_CL  Revenue_CL  \n",
       "0                        3.0        0.0   51       1      0.0         0.0  \n",
       "1                        2.0        0.0   43       2      0.0         0.0  \n",
       "5                        1.0        0.0   24       6      0.0         0.0  \n",
       "7                       10.0        0.0   64       8      0.0         0.0  \n",
       "12                       6.0        0.0   66      13      0.0         0.0  "
      ]
     },
     "execution_count": 26,
     "metadata": {},
     "output_type": "execute_result"
    }
   ],
   "source": [
    "data_loan.head()"
   ]
  },
  {
   "cell_type": "code",
   "execution_count": 28,
   "metadata": {},
   "outputs": [
    {
     "name": "stderr",
     "output_type": "stream",
     "text": [
      "D:\\ANACONDA\\Anaconda\\lib\\site-packages\\ipykernel_launcher.py:2: SettingWithCopyWarning: \n",
      "A value is trying to be set on a copy of a slice from a DataFrame.\n",
      "Try using .loc[row_indexer,col_indexer] = value instead\n",
      "\n",
      "See the caveats in the documentation: http://pandas.pydata.org/pandas-docs/stable/user_guide/indexing.html#returning-a-view-versus-a-copy\n",
      "  \n",
      "D:\\ANACONDA\\Anaconda\\lib\\site-packages\\pandas\\core\\indexing.py:494: SettingWithCopyWarning: \n",
      "A value is trying to be set on a copy of a slice from a DataFrame.\n",
      "Try using .loc[row_indexer,col_indexer] = value instead\n",
      "\n",
      "See the caveats in the documentation: http://pandas.pydata.org/pandas-docs/stable/user_guide/indexing.html#returning-a-view-versus-a-copy\n",
      "  self.obj[item] = s\n"
     ]
    }
   ],
   "source": [
    "map_score(data_loan,Clients,pscore)"
   ]
  },
  {
   "cell_type": "code",
   "execution_count": 31,
   "metadata": {},
   "outputs": [],
   "source": [
    "# Remove records where the Target sale value is 0\n",
    "data_loan =data_loan[(data_loan.Sale_CL != 0)]\n",
    "# Remove cases where probability is 0\n",
    "data_loan = data_loan[(data_loan.Propensity != 0)]\n",
    "# Remove the non essential fields \n",
    "data_loan = data_loan[['Client','Sale_CL','Revenue_CL','Propensity']]\n",
    "# Sort the values by Decreasing order of Propensity, so that the clients with the highest propensity can be targeted first\n",
    "Clients_loan = data_loan.sort_values(by ='Propensity',ascending=False)"
   ]
  },
  {
   "cell_type": "code",
   "execution_count": 34,
   "metadata": {},
   "outputs": [
    {
     "data": {
      "text/html": [
       "<div>\n",
       "<style scoped>\n",
       "    .dataframe tbody tr th:only-of-type {\n",
       "        vertical-align: middle;\n",
       "    }\n",
       "\n",
       "    .dataframe tbody tr th {\n",
       "        vertical-align: top;\n",
       "    }\n",
       "\n",
       "    .dataframe thead th {\n",
       "        text-align: right;\n",
       "    }\n",
       "</style>\n",
       "<table border=\"1\" class=\"dataframe\">\n",
       "  <thead>\n",
       "    <tr style=\"text-align: right;\">\n",
       "      <th></th>\n",
       "      <th>Client</th>\n",
       "      <th>Sale_CL</th>\n",
       "      <th>Revenue_CL</th>\n",
       "      <th>Propensity</th>\n",
       "    </tr>\n",
       "  </thead>\n",
       "  <tbody>\n",
       "    <tr>\n",
       "      <td>101</td>\n",
       "      <td>102</td>\n",
       "      <td>1.0</td>\n",
       "      <td>6.952500</td>\n",
       "      <td>0.845450</td>\n",
       "    </tr>\n",
       "    <tr>\n",
       "      <td>119</td>\n",
       "      <td>120</td>\n",
       "      <td>1.0</td>\n",
       "      <td>7.297857</td>\n",
       "      <td>0.419161</td>\n",
       "    </tr>\n",
       "    <tr>\n",
       "      <td>122</td>\n",
       "      <td>123</td>\n",
       "      <td>1.0</td>\n",
       "      <td>10.461071</td>\n",
       "      <td>0.557634</td>\n",
       "    </tr>\n",
       "    <tr>\n",
       "      <td>191</td>\n",
       "      <td>192</td>\n",
       "      <td>1.0</td>\n",
       "      <td>6.857143</td>\n",
       "      <td>0.301705</td>\n",
       "    </tr>\n",
       "    <tr>\n",
       "      <td>387</td>\n",
       "      <td>388</td>\n",
       "      <td>1.0</td>\n",
       "      <td>7.285714</td>\n",
       "      <td>0.515067</td>\n",
       "    </tr>\n",
       "  </tbody>\n",
       "</table>\n",
       "</div>"
      ],
      "text/plain": [
       "     Client  Sale_CL  Revenue_CL  Propensity\n",
       "101     102      1.0    6.952500    0.845450\n",
       "119     120      1.0    7.297857    0.419161\n",
       "122     123      1.0   10.461071    0.557634\n",
       "191     192      1.0    6.857143    0.301705\n",
       "387     388      1.0    7.285714    0.515067"
      ]
     },
     "execution_count": 34,
     "metadata": {},
     "output_type": "execute_result"
    }
   ],
   "source": [
    "data_loan.head()"
   ]
  },
  {
   "cell_type": "code",
   "execution_count": 42,
   "metadata": {},
   "outputs": [
    {
     "name": "stdout",
     "output_type": "stream",
     "text": [
      "Sale_CC                         1.000000\n",
      "Revenue_CC                      0.266128\n",
      "ActBal_SA                       0.178872\n",
      "ActBal_CA                       0.162126\n",
      "Count_SA                        0.109100\n",
      "VolumeDeb_PaymentOrder          0.078926\n",
      "TransactionsDebCash_Card        0.067147\n",
      "Revenue_CL                      0.061286\n",
      "VolumeDeb                       0.056011\n",
      "VolumeDeb_CA                    0.048978\n",
      "Count_OVD                       0.045900\n",
      "Age                             0.044275\n",
      "TransactionsCred                0.033397\n",
      "Tenure                          0.015186\n",
      "VolumeCred                      0.015178\n",
      "TransactionsCred_CA             0.007702\n",
      "TransactionsDeb                -0.000098\n",
      "Revenue_MF                     -0.001863\n",
      "VolumeCred_CA                  -0.002583\n",
      "Client                         -0.003112\n",
      "TransactionsDeb_CA             -0.009415\n",
      "VolumeDebCash_Card             -0.009527\n",
      "TransactionsDeb_PaymentOrder   -0.009810\n",
      "Count_CC                       -0.011186\n",
      "VolumeDebCashless_Card         -0.012570\n",
      "Sale_CL                        -0.015483\n",
      "Sale_MF                        -0.019349\n",
      "ActBal_OVD                     -0.024964\n",
      "ActBal_CC                      -0.025741\n",
      "Count_MF                       -0.026799\n",
      "ActBal_MF                      -0.027401\n",
      "Count_CA                       -0.031510\n",
      "ActBal_CL                      -0.047900\n",
      "TransactionsDebCashless_Card   -0.048921\n",
      "Count_CL                       -0.060477\n",
      "Name: Sale_CC, dtype: float64\n"
     ]
    }
   ],
   "source": [
    "corr.sort_values([\"Sale_CC\"], ascending = False, inplace = True)\n",
    "print(corr.Sale_CC)"
   ]
  },
  {
   "cell_type": "code",
   "execution_count": 43,
   "metadata": {},
   "outputs": [
    {
     "data": {
      "text/html": [
       "<div>\n",
       "<style scoped>\n",
       "    .dataframe tbody tr th:only-of-type {\n",
       "        vertical-align: middle;\n",
       "    }\n",
       "\n",
       "    .dataframe tbody tr th {\n",
       "        vertical-align: top;\n",
       "    }\n",
       "\n",
       "    .dataframe thead th {\n",
       "        text-align: right;\n",
       "    }\n",
       "</style>\n",
       "<table border=\"1\" class=\"dataframe\">\n",
       "  <thead>\n",
       "    <tr style=\"text-align: right;\">\n",
       "      <th></th>\n",
       "      <th>ActBal_SA</th>\n",
       "      <th>ActBal_CA</th>\n",
       "      <th>Count_SA</th>\n",
       "      <th>VolumeDeb_PaymentOrder</th>\n",
       "      <th>TransactionsDebCash_Card</th>\n",
       "      <th>ActBal_CC</th>\n",
       "      <th>Count_CC</th>\n",
       "      <th>Client</th>\n",
       "      <th>Sale_CC</th>\n",
       "      <th>Revenue_CC</th>\n",
       "    </tr>\n",
       "  </thead>\n",
       "  <tbody>\n",
       "    <tr>\n",
       "      <td>0</td>\n",
       "      <td>0.00000</td>\n",
       "      <td>1333.802857</td>\n",
       "      <td>0</td>\n",
       "      <td>247.607143</td>\n",
       "      <td>3.0</td>\n",
       "      <td>0.0</td>\n",
       "      <td>0</td>\n",
       "      <td>1</td>\n",
       "      <td>0.0</td>\n",
       "      <td>0.0</td>\n",
       "    </tr>\n",
       "    <tr>\n",
       "      <td>1</td>\n",
       "      <td>13326.19036</td>\n",
       "      <td>110.768571</td>\n",
       "      <td>1</td>\n",
       "      <td>35.714286</td>\n",
       "      <td>2.0</td>\n",
       "      <td>0.0</td>\n",
       "      <td>0</td>\n",
       "      <td>2</td>\n",
       "      <td>0.0</td>\n",
       "      <td>0.0</td>\n",
       "    </tr>\n",
       "    <tr>\n",
       "      <td>5</td>\n",
       "      <td>0.00000</td>\n",
       "      <td>4.297143</td>\n",
       "      <td>0</td>\n",
       "      <td>0.000000</td>\n",
       "      <td>1.0</td>\n",
       "      <td>0.0</td>\n",
       "      <td>0</td>\n",
       "      <td>6</td>\n",
       "      <td>0.0</td>\n",
       "      <td>0.0</td>\n",
       "    </tr>\n",
       "    <tr>\n",
       "      <td>7</td>\n",
       "      <td>0.00000</td>\n",
       "      <td>0.000000</td>\n",
       "      <td>0</td>\n",
       "      <td>0.000000</td>\n",
       "      <td>10.0</td>\n",
       "      <td>0.0</td>\n",
       "      <td>0</td>\n",
       "      <td>8</td>\n",
       "      <td>0.0</td>\n",
       "      <td>0.0</td>\n",
       "    </tr>\n",
       "    <tr>\n",
       "      <td>12</td>\n",
       "      <td>5.83250</td>\n",
       "      <td>353.839643</td>\n",
       "      <td>1</td>\n",
       "      <td>312.535714</td>\n",
       "      <td>6.0</td>\n",
       "      <td>0.0</td>\n",
       "      <td>0</td>\n",
       "      <td>13</td>\n",
       "      <td>0.0</td>\n",
       "      <td>0.0</td>\n",
       "    </tr>\n",
       "  </tbody>\n",
       "</table>\n",
       "</div>"
      ],
      "text/plain": [
       "      ActBal_SA    ActBal_CA  Count_SA  VolumeDeb_PaymentOrder  \\\n",
       "0       0.00000  1333.802857         0              247.607143   \n",
       "1   13326.19036   110.768571         1               35.714286   \n",
       "5       0.00000     4.297143         0                0.000000   \n",
       "7       0.00000     0.000000         0                0.000000   \n",
       "12      5.83250   353.839643         1              312.535714   \n",
       "\n",
       "    TransactionsDebCash_Card  ActBal_CC  Count_CC  Client  Sale_CC  Revenue_CC  \n",
       "0                        3.0        0.0         0       1      0.0         0.0  \n",
       "1                        2.0        0.0         0       2      0.0         0.0  \n",
       "5                        1.0        0.0         0       6      0.0         0.0  \n",
       "7                       10.0        0.0         0       8      0.0         0.0  \n",
       "12                       6.0        0.0         0      13      0.0         0.0  "
      ]
     },
     "execution_count": 43,
     "metadata": {},
     "output_type": "execute_result"
    }
   ],
   "source": [
    "data_credit = df_kbc_bank[['ActBal_SA','ActBal_CA','Count_SA','VolumeDeb_PaymentOrder','TransactionsDebCash_Card','ActBal_CC','Count_CC','Client','Sale_CC','Revenue_CC']]\n",
    "data_credit.head()"
   ]
  },
  {
   "cell_type": "code",
   "execution_count": 44,
   "metadata": {},
   "outputs": [],
   "source": [
    "X = data_credit.loc[:,'ActBal_SA':'Client'].values\n",
    "y = data_credit.Sale_CC.values"
   ]
  },
  {
   "cell_type": "code",
   "execution_count": 45,
   "metadata": {},
   "outputs": [
    {
     "data": {
      "text/plain": [
       "Text(0.5, 1, 'Correlation between the selected Features')"
      ]
     },
     "execution_count": 45,
     "metadata": {},
     "output_type": "execute_result"
    },
    {
     "data": {
      "image/png": "[encoded data removed]",
      "text/plain": [
       "<Figure size 720x720 with 2 Axes>"
      ]
     },
     "metadata": {
      "needs_background": "light"
     },
     "output_type": "display_data"
    }
   ],
   "source": [
    "Corr_Credit = data_credit.corr()\n",
    "plt.figure(figsize=(10,10))\n",
    "sns.heatmap(Corr_Credit, vmax=1, square=True,annot=True,cmap='Dark2')\n",
    "plt.title('Correlation between the selected Features')"
   ]
  },
  {
   "cell_type": "code",
   "execution_count": 46,
   "metadata": {},
   "outputs": [
    {
     "name": "stdout",
     "output_type": "stream",
     "text": [
      "0.7272727272727273\n"
     ]
    }
   ],
   "source": [
    "X_train, X_test, y_train, y_test = train_test_split(X,y, test_size=0.15, random_state=42)\n",
    "clf = RandomForestClassifier(n_estimators=10)\n",
    "clf = clf.fit(X_train, y_train)\n",
    "print(clf.score(X_test,y_test))"
   ]
  },
  {
   "cell_type": "code",
   "execution_count": 47,
   "metadata": {},
   "outputs": [],
   "source": [
    "pscore = clf.predict_proba(X_test)[:,1]"
   ]
  },
  {
   "cell_type": "code",
   "execution_count": 52,
   "metadata": {},
   "outputs": [
    {
     "name": "stderr",
     "output_type": "stream",
     "text": [
      "D:\\ANACONDA\\Anaconda\\lib\\site-packages\\ipykernel_launcher.py:2: SettingWithCopyWarning: \n",
      "A value is trying to be set on a copy of a slice from a DataFrame.\n",
      "Try using .loc[row_indexer,col_indexer] = value instead\n",
      "\n",
      "See the caveats in the documentation: http://pandas.pydata.org/pandas-docs/stable/user_guide/indexing.html#returning-a-view-versus-a-copy\n",
      "  \n",
      "D:\\ANACONDA\\Anaconda\\lib\\site-packages\\pandas\\core\\indexing.py:494: SettingWithCopyWarning: \n",
      "A value is trying to be set on a copy of a slice from a DataFrame.\n",
      "Try using .loc[row_indexer,col_indexer] = value instead\n",
      "\n",
      "See the caveats in the documentation: http://pandas.pydata.org/pandas-docs/stable/user_guide/indexing.html#returning-a-view-versus-a-copy\n",
      "  self.obj[item] = s\n"
     ]
    }
   ],
   "source": [
    "map_score(data_credit,Clients,pscore)"
   ]
  },
  {
   "cell_type": "code",
   "execution_count": 53,
   "metadata": {},
   "outputs": [],
   "source": [
    "# Remove records where the Target sale value is 0\n",
    "data_credit =data_credit[(data_credit.Sale_CC != 0)]\n",
    "# Remove cases where probability is 0\n",
    "data_credit = data_credit[(data_credit.Propensity != 0)]\n",
    "# Remove the non essential fields \n",
    "data_credit = data_credit[['Client','Sale_CC','Revenue_CC','Propensity']]\n",
    "# Sort the values by Decreasing order of Propensity, so that the clients with the highest propensity can be targeted first\n",
    "Clients_credit = data_credit.sort_values(by ='Propensity',ascending=False)"
   ]
  },
  {
   "cell_type": "code",
   "execution_count": 57,
   "metadata": {},
   "outputs": [
    {
     "data": {
      "text/html": [
       "<div>\n",
       "<style scoped>\n",
       "    .dataframe tbody tr th:only-of-type {\n",
       "        vertical-align: middle;\n",
       "    }\n",
       "\n",
       "    .dataframe tbody tr th {\n",
       "        vertical-align: top;\n",
       "    }\n",
       "\n",
       "    .dataframe thead th {\n",
       "        text-align: right;\n",
       "    }\n",
       "</style>\n",
       "<table border=\"1\" class=\"dataframe\">\n",
       "  <thead>\n",
       "    <tr style=\"text-align: right;\">\n",
       "      <th></th>\n",
       "      <th>Client</th>\n",
       "      <th>Sale_CC</th>\n",
       "      <th>Revenue_CC</th>\n",
       "      <th>Propensity</th>\n",
       "    </tr>\n",
       "  </thead>\n",
       "  <tbody>\n",
       "    <tr>\n",
       "      <td>48</td>\n",
       "      <td>49</td>\n",
       "      <td>1.0</td>\n",
       "      <td>15.246429</td>\n",
       "      <td>0.7</td>\n",
       "    </tr>\n",
       "    <tr>\n",
       "      <td>617</td>\n",
       "      <td>618</td>\n",
       "      <td>1.0</td>\n",
       "      <td>18.571429</td>\n",
       "      <td>0.7</td>\n",
       "    </tr>\n",
       "    <tr>\n",
       "      <td>1366</td>\n",
       "      <td>1367</td>\n",
       "      <td>1.0</td>\n",
       "      <td>5.177143</td>\n",
       "      <td>0.7</td>\n",
       "    </tr>\n",
       "    <tr>\n",
       "      <td>1301</td>\n",
       "      <td>1302</td>\n",
       "      <td>1.0</td>\n",
       "      <td>0.428571</td>\n",
       "      <td>0.5</td>\n",
       "    </tr>\n",
       "    <tr>\n",
       "      <td>454</td>\n",
       "      <td>455</td>\n",
       "      <td>1.0</td>\n",
       "      <td>18.292143</td>\n",
       "      <td>0.5</td>\n",
       "    </tr>\n",
       "  </tbody>\n",
       "</table>\n",
       "</div>"
      ],
      "text/plain": [
       "      Client  Sale_CC  Revenue_CC  Propensity\n",
       "48        49      1.0   15.246429         0.7\n",
       "617      618      1.0   18.571429         0.7\n",
       "1366    1367      1.0    5.177143         0.7\n",
       "1301    1302      1.0    0.428571         0.5\n",
       "454      455      1.0   18.292143         0.5"
      ]
     },
     "execution_count": 57,
     "metadata": {},
     "output_type": "execute_result"
    }
   ],
   "source": [
    "Clients_credit.head()"
   ]
  },
  {
   "cell_type": "code",
   "execution_count": 59,
   "metadata": {},
   "outputs": [
    {
     "name": "stdout",
     "output_type": "stream",
     "text": [
      "Sale_MF                         1.000000\n",
      "Revenue_MF                      0.387523\n",
      "Count_MF                        0.164022\n",
      "TransactionsDebCashless_Card    0.124785\n",
      "TransactionsDeb                 0.082344\n",
      "TransactionsCred_CA             0.081178\n",
      "TransactionsCred                0.073415\n",
      "TransactionsDeb_CA              0.053990\n",
      "ActBal_MF                       0.024952\n",
      "TransactionsDeb_PaymentOrder    0.023112\n",
      "VolumeCred_CA                   0.015664\n",
      "Client                          0.011345\n",
      "ActBal_CC                       0.010573\n",
      "Revenue_CL                      0.004459\n",
      "VolumeDebCashless_Card          0.002175\n",
      "Count_CA                        0.001232\n",
      "ActBal_OVD                     -0.001809\n",
      "TransactionsDebCash_Card       -0.002194\n",
      "Count_CC                       -0.003033\n",
      "VolumeCred                     -0.003425\n",
      "Tenure                         -0.005661\n",
      "Count_SA                       -0.006532\n",
      "Count_OVD                      -0.012146\n",
      "VolumeDeb_PaymentOrder         -0.012781\n",
      "Sale_CL                        -0.014640\n",
      "Revenue_CC                     -0.017137\n",
      "Sale_CC                        -0.019349\n",
      "Age                            -0.029240\n",
      "VolumeDebCash_Card             -0.030657\n",
      "VolumeDeb_CA                   -0.032630\n",
      "VolumeDeb                      -0.036297\n",
      "ActBal_SA                      -0.038518\n",
      "ActBal_CA                      -0.044054\n",
      "Count_CL                       -0.048078\n",
      "ActBal_CL                      -0.055063\n",
      "Name: Sale_MF, dtype: float64\n"
     ]
    }
   ],
   "source": [
    "corr.sort_values([\"Sale_MF\"], ascending = False, inplace = True)\n",
    "print(corr.Sale_MF)"
   ]
  },
  {
   "cell_type": "code",
   "execution_count": 60,
   "metadata": {},
   "outputs": [
    {
     "data": {
      "text/html": [
       "<div>\n",
       "<style scoped>\n",
       "    .dataframe tbody tr th:only-of-type {\n",
       "        vertical-align: middle;\n",
       "    }\n",
       "\n",
       "    .dataframe tbody tr th {\n",
       "        vertical-align: top;\n",
       "    }\n",
       "\n",
       "    .dataframe thead th {\n",
       "        text-align: right;\n",
       "    }\n",
       "</style>\n",
       "<table border=\"1\" class=\"dataframe\">\n",
       "  <thead>\n",
       "    <tr style=\"text-align: right;\">\n",
       "      <th></th>\n",
       "      <th>Count_MF</th>\n",
       "      <th>TransactionsDebCashless_Card</th>\n",
       "      <th>TransactionsDeb</th>\n",
       "      <th>TransactionsCred_CA</th>\n",
       "      <th>TransactionsCred</th>\n",
       "      <th>TransactionsDeb_CA</th>\n",
       "      <th>ActBal_MF</th>\n",
       "      <th>TransactionsDeb_PaymentOrder</th>\n",
       "      <th>VolumeCred_CA</th>\n",
       "      <th>Client</th>\n",
       "      <th>Sale_MF</th>\n",
       "      <th>Revenue_MF</th>\n",
       "    </tr>\n",
       "  </thead>\n",
       "  <tbody>\n",
       "    <tr>\n",
       "      <td>0</td>\n",
       "      <td>0</td>\n",
       "      <td>12.0</td>\n",
       "      <td>50.0</td>\n",
       "      <td>23.0</td>\n",
       "      <td>25.0</td>\n",
       "      <td>30.0</td>\n",
       "      <td>0.0</td>\n",
       "      <td>9.0</td>\n",
       "      <td>1318.698214</td>\n",
       "      <td>1</td>\n",
       "      <td>1.0</td>\n",
       "      <td>26.972679</td>\n",
       "    </tr>\n",
       "    <tr>\n",
       "      <td>1</td>\n",
       "      <td>0</td>\n",
       "      <td>2.0</td>\n",
       "      <td>6.0</td>\n",
       "      <td>3.0</td>\n",
       "      <td>4.0</td>\n",
       "      <td>6.0</td>\n",
       "      <td>0.0</td>\n",
       "      <td>1.0</td>\n",
       "      <td>704.935714</td>\n",
       "      <td>2</td>\n",
       "      <td>0.0</td>\n",
       "      <td>0.000000</td>\n",
       "    </tr>\n",
       "    <tr>\n",
       "      <td>5</td>\n",
       "      <td>0</td>\n",
       "      <td>0.0</td>\n",
       "      <td>8.0</td>\n",
       "      <td>2.0</td>\n",
       "      <td>3.0</td>\n",
       "      <td>6.0</td>\n",
       "      <td>0.0</td>\n",
       "      <td>0.0</td>\n",
       "      <td>448.429286</td>\n",
       "      <td>6</td>\n",
       "      <td>0.0</td>\n",
       "      <td>0.000000</td>\n",
       "    </tr>\n",
       "    <tr>\n",
       "      <td>7</td>\n",
       "      <td>0</td>\n",
       "      <td>1.0</td>\n",
       "      <td>42.0</td>\n",
       "      <td>21.0</td>\n",
       "      <td>25.0</td>\n",
       "      <td>24.0</td>\n",
       "      <td>0.0</td>\n",
       "      <td>0.0</td>\n",
       "      <td>458.608571</td>\n",
       "      <td>8</td>\n",
       "      <td>0.0</td>\n",
       "      <td>0.000000</td>\n",
       "    </tr>\n",
       "    <tr>\n",
       "      <td>12</td>\n",
       "      <td>0</td>\n",
       "      <td>17.0</td>\n",
       "      <td>41.0</td>\n",
       "      <td>3.0</td>\n",
       "      <td>6.0</td>\n",
       "      <td>39.0</td>\n",
       "      <td>0.0</td>\n",
       "      <td>10.0</td>\n",
       "      <td>1095.644643</td>\n",
       "      <td>13</td>\n",
       "      <td>0.0</td>\n",
       "      <td>0.000000</td>\n",
       "    </tr>\n",
       "  </tbody>\n",
       "</table>\n",
       "</div>"
      ],
      "text/plain": [
       "    Count_MF  TransactionsDebCashless_Card  TransactionsDeb  \\\n",
       "0          0                          12.0             50.0   \n",
       "1          0                           2.0              6.0   \n",
       "5          0                           0.0              8.0   \n",
       "7          0                           1.0             42.0   \n",
       "12         0                          17.0             41.0   \n",
       "\n",
       "    TransactionsCred_CA  TransactionsCred  TransactionsDeb_CA  ActBal_MF  \\\n",
       "0                  23.0              25.0                30.0        0.0   \n",
       "1                   3.0               4.0                 6.0        0.0   \n",
       "5                   2.0               3.0                 6.0        0.0   \n",
       "7                  21.0              25.0                24.0        0.0   \n",
       "12                  3.0               6.0                39.0        0.0   \n",
       "\n",
       "    TransactionsDeb_PaymentOrder  VolumeCred_CA  Client  Sale_MF  Revenue_MF  \n",
       "0                            9.0    1318.698214       1      1.0   26.972679  \n",
       "1                            1.0     704.935714       2      0.0    0.000000  \n",
       "5                            0.0     448.429286       6      0.0    0.000000  \n",
       "7                            0.0     458.608571       8      0.0    0.000000  \n",
       "12                          10.0    1095.644643      13      0.0    0.000000  "
      ]
     },
     "execution_count": 60,
     "metadata": {},
     "output_type": "execute_result"
    }
   ],
   "source": [
    "data_mutual_fund = df_kbc_bank[['Count_MF','TransactionsDebCashless_Card','TransactionsDeb','TransactionsCred_CA'             \n",
    ",'TransactionsCred','TransactionsDeb_CA','ActBal_MF',\n",
    "'TransactionsDeb_PaymentOrder','VolumeCred_CA','Client','Sale_MF','Revenue_MF']]\n",
    "data_mutual_fund.head()"
   ]
  },
  {
   "cell_type": "code",
   "execution_count": 61,
   "metadata": {},
   "outputs": [],
   "source": [
    "X = data_mutual_fund.loc[:,'Count_MF':'Client'].values\n",
    "y = data_mutual_fund.Sale_MF.values"
   ]
  },
  {
   "cell_type": "code",
   "execution_count": 62,
   "metadata": {},
   "outputs": [
    {
     "data": {
      "text/plain": [
       "Text(0.5, 1, 'Correlation between the selected Features')"
      ]
     },
     "execution_count": 62,
     "metadata": {},
     "output_type": "execute_result"
    },
    {
     "data": {
      "image/png": "[encoded data removed]",
      "text/plain": [
       "<Figure size 720x720 with 2 Axes>"
      ]
     },
     "metadata": {
      "needs_background": "light"
     },
     "output_type": "display_data"
    }
   ],
   "source": [
    "Corr_Mutual_Fund = data_mutual_fund.corr()\n",
    "plt.figure(figsize=(10,10))\n",
    "sns.heatmap(Corr_Mutual_Fund, vmax=1, square=True,annot=True,cmap='Accent')\n",
    "plt.title('Correlation between the selected Features')"
   ]
  },
  {
   "cell_type": "code",
   "execution_count": 63,
   "metadata": {},
   "outputs": [
    {
     "data": {
      "text/plain": [
       "GaussianNB(priors=None, var_smoothing=1e-09)"
      ]
     },
     "execution_count": 63,
     "metadata": {},
     "output_type": "execute_result"
    }
   ],
   "source": [
    "X_train, X_test, y_train, y_test = train_test_split(X,y, test_size=0.15, random_state=42)\n",
    "clf = GaussianNB()\n",
    "clf.fit(X_train,y_train)"
   ]
  },
  {
   "cell_type": "code",
   "execution_count": 64,
   "metadata": {},
   "outputs": [
    {
     "name": "stdout",
     "output_type": "stream",
     "text": [
      "0.7132867132867133\n"
     ]
    }
   ],
   "source": [
    "print(clf.score(X_test,y_test))"
   ]
  },
  {
   "cell_type": "code",
   "execution_count": 65,
   "metadata": {},
   "outputs": [
    {
     "name": "stderr",
     "output_type": "stream",
     "text": [
      "D:\\ANACONDA\\Anaconda\\lib\\site-packages\\ipykernel_launcher.py:2: SettingWithCopyWarning: \n",
      "A value is trying to be set on a copy of a slice from a DataFrame.\n",
      "Try using .loc[row_indexer,col_indexer] = value instead\n",
      "\n",
      "See the caveats in the documentation: http://pandas.pydata.org/pandas-docs/stable/user_guide/indexing.html#returning-a-view-versus-a-copy\n",
      "  \n",
      "D:\\ANACONDA\\Anaconda\\lib\\site-packages\\pandas\\core\\indexing.py:494: SettingWithCopyWarning: \n",
      "A value is trying to be set on a copy of a slice from a DataFrame.\n",
      "Try using .loc[row_indexer,col_indexer] = value instead\n",
      "\n",
      "See the caveats in the documentation: http://pandas.pydata.org/pandas-docs/stable/user_guide/indexing.html#returning-a-view-versus-a-copy\n",
      "  self.obj[item] = s\n"
     ]
    }
   ],
   "source": [
    "pscore = clf.predict_proba(X_test)[:,1]\n",
    "Clients = X_test[:,-1]\n",
    "map_score(data_mutual_fund,Clients,pscore)"
   ]
  },
  {
   "cell_type": "code",
   "execution_count": 66,
   "metadata": {},
   "outputs": [
    {
     "data": {
      "text/html": [
       "<div>\n",
       "<style scoped>\n",
       "    .dataframe tbody tr th:only-of-type {\n",
       "        vertical-align: middle;\n",
       "    }\n",
       "\n",
       "    .dataframe tbody tr th {\n",
       "        vertical-align: top;\n",
       "    }\n",
       "\n",
       "    .dataframe thead th {\n",
       "        text-align: right;\n",
       "    }\n",
       "</style>\n",
       "<table border=\"1\" class=\"dataframe\">\n",
       "  <thead>\n",
       "    <tr style=\"text-align: right;\">\n",
       "      <th></th>\n",
       "      <th>Count_MF</th>\n",
       "      <th>TransactionsDebCashless_Card</th>\n",
       "      <th>TransactionsDeb</th>\n",
       "      <th>TransactionsCred_CA</th>\n",
       "      <th>TransactionsCred</th>\n",
       "      <th>TransactionsDeb_CA</th>\n",
       "      <th>ActBal_MF</th>\n",
       "      <th>TransactionsDeb_PaymentOrder</th>\n",
       "      <th>VolumeCred_CA</th>\n",
       "      <th>Client</th>\n",
       "      <th>Sale_MF</th>\n",
       "      <th>Revenue_MF</th>\n",
       "      <th>Propensity</th>\n",
       "    </tr>\n",
       "  </thead>\n",
       "  <tbody>\n",
       "    <tr>\n",
       "      <td>0</td>\n",
       "      <td>0</td>\n",
       "      <td>12.0</td>\n",
       "      <td>50.0</td>\n",
       "      <td>23.0</td>\n",
       "      <td>25.0</td>\n",
       "      <td>30.0</td>\n",
       "      <td>0.0</td>\n",
       "      <td>9.0</td>\n",
       "      <td>1318.698214</td>\n",
       "      <td>1</td>\n",
       "      <td>1.0</td>\n",
       "      <td>26.972679</td>\n",
       "      <td>0.0</td>\n",
       "    </tr>\n",
       "    <tr>\n",
       "      <td>1</td>\n",
       "      <td>0</td>\n",
       "      <td>2.0</td>\n",
       "      <td>6.0</td>\n",
       "      <td>3.0</td>\n",
       "      <td>4.0</td>\n",
       "      <td>6.0</td>\n",
       "      <td>0.0</td>\n",
       "      <td>1.0</td>\n",
       "      <td>704.935714</td>\n",
       "      <td>2</td>\n",
       "      <td>0.0</td>\n",
       "      <td>0.000000</td>\n",
       "      <td>0.0</td>\n",
       "    </tr>\n",
       "    <tr>\n",
       "      <td>5</td>\n",
       "      <td>0</td>\n",
       "      <td>0.0</td>\n",
       "      <td>8.0</td>\n",
       "      <td>2.0</td>\n",
       "      <td>3.0</td>\n",
       "      <td>6.0</td>\n",
       "      <td>0.0</td>\n",
       "      <td>0.0</td>\n",
       "      <td>448.429286</td>\n",
       "      <td>6</td>\n",
       "      <td>0.0</td>\n",
       "      <td>0.000000</td>\n",
       "      <td>0.0</td>\n",
       "    </tr>\n",
       "    <tr>\n",
       "      <td>7</td>\n",
       "      <td>0</td>\n",
       "      <td>1.0</td>\n",
       "      <td>42.0</td>\n",
       "      <td>21.0</td>\n",
       "      <td>25.0</td>\n",
       "      <td>24.0</td>\n",
       "      <td>0.0</td>\n",
       "      <td>0.0</td>\n",
       "      <td>458.608571</td>\n",
       "      <td>8</td>\n",
       "      <td>0.0</td>\n",
       "      <td>0.000000</td>\n",
       "      <td>0.0</td>\n",
       "    </tr>\n",
       "    <tr>\n",
       "      <td>12</td>\n",
       "      <td>0</td>\n",
       "      <td>17.0</td>\n",
       "      <td>41.0</td>\n",
       "      <td>3.0</td>\n",
       "      <td>6.0</td>\n",
       "      <td>39.0</td>\n",
       "      <td>0.0</td>\n",
       "      <td>10.0</td>\n",
       "      <td>1095.644643</td>\n",
       "      <td>13</td>\n",
       "      <td>0.0</td>\n",
       "      <td>0.000000</td>\n",
       "      <td>0.0</td>\n",
       "    </tr>\n",
       "  </tbody>\n",
       "</table>\n",
       "</div>"
      ],
      "text/plain": [
       "    Count_MF  TransactionsDebCashless_Card  TransactionsDeb  \\\n",
       "0          0                          12.0             50.0   \n",
       "1          0                           2.0              6.0   \n",
       "5          0                           0.0              8.0   \n",
       "7          0                           1.0             42.0   \n",
       "12         0                          17.0             41.0   \n",
       "\n",
       "    TransactionsCred_CA  TransactionsCred  TransactionsDeb_CA  ActBal_MF  \\\n",
       "0                  23.0              25.0                30.0        0.0   \n",
       "1                   3.0               4.0                 6.0        0.0   \n",
       "5                   2.0               3.0                 6.0        0.0   \n",
       "7                  21.0              25.0                24.0        0.0   \n",
       "12                  3.0               6.0                39.0        0.0   \n",
       "\n",
       "    TransactionsDeb_PaymentOrder  VolumeCred_CA  Client  Sale_MF  Revenue_MF  \\\n",
       "0                            9.0    1318.698214       1      1.0   26.972679   \n",
       "1                            1.0     704.935714       2      0.0    0.000000   \n",
       "5                            0.0     448.429286       6      0.0    0.000000   \n",
       "7                            0.0     458.608571       8      0.0    0.000000   \n",
       "12                          10.0    1095.644643      13      0.0    0.000000   \n",
       "\n",
       "    Propensity  \n",
       "0          0.0  \n",
       "1          0.0  \n",
       "5          0.0  \n",
       "7          0.0  \n",
       "12         0.0  "
      ]
     },
     "execution_count": 66,
     "metadata": {},
     "output_type": "execute_result"
    }
   ],
   "source": [
    "data_mutual_fund.head()"
   ]
  },
  {
   "cell_type": "code",
   "execution_count": 67,
   "metadata": {},
   "outputs": [],
   "source": [
    "# Remove records where the Target sale value is 0\n",
    "data_mutual_fund =data_mutual_fund[(data_mutual_fund.Sale_MF != 0)]\n",
    "# Remove cases where probability is 0\n",
    "data_mutual_fund = data_mutual_fund[(data_mutual_fund.Propensity != 0)]\n",
    "# Remove the non essential fields \n",
    "data_mutual_fund = data_mutual_fund[['Client','Sale_MF','Revenue_MF','Propensity']]\n",
    "# Sort the values by Decreasing order of Propensity, so that the clients with the highest propensity can be targeted first\n",
    "Clients_mutual_fund = data_mutual_fund.sort_values(by ='Propensity',ascending=False)"
   ]
  },
  {
   "cell_type": "code",
   "execution_count": 68,
   "metadata": {},
   "outputs": [
    {
     "data": {
      "text/html": [
       "<div>\n",
       "<style scoped>\n",
       "    .dataframe tbody tr th:only-of-type {\n",
       "        vertical-align: middle;\n",
       "    }\n",
       "\n",
       "    .dataframe tbody tr th {\n",
       "        vertical-align: top;\n",
       "    }\n",
       "\n",
       "    .dataframe thead th {\n",
       "        text-align: right;\n",
       "    }\n",
       "</style>\n",
       "<table border=\"1\" class=\"dataframe\">\n",
       "  <thead>\n",
       "    <tr style=\"text-align: right;\">\n",
       "      <th></th>\n",
       "      <th>Client</th>\n",
       "      <th>Sale_MF</th>\n",
       "      <th>Revenue_MF</th>\n",
       "      <th>Propensity</th>\n",
       "    </tr>\n",
       "  </thead>\n",
       "  <tbody>\n",
       "    <tr>\n",
       "      <td>101</td>\n",
       "      <td>102</td>\n",
       "      <td>1.0</td>\n",
       "      <td>2.958036</td>\n",
       "      <td>1.000000</td>\n",
       "    </tr>\n",
       "    <tr>\n",
       "      <td>1229</td>\n",
       "      <td>1230</td>\n",
       "      <td>1.0</td>\n",
       "      <td>1.547500</td>\n",
       "      <td>0.999995</td>\n",
       "    </tr>\n",
       "    <tr>\n",
       "      <td>1495</td>\n",
       "      <td>1496</td>\n",
       "      <td>1.0</td>\n",
       "      <td>5.771250</td>\n",
       "      <td>0.999851</td>\n",
       "    </tr>\n",
       "    <tr>\n",
       "      <td>41</td>\n",
       "      <td>42</td>\n",
       "      <td>1.0</td>\n",
       "      <td>15.275714</td>\n",
       "      <td>0.999811</td>\n",
       "    </tr>\n",
       "    <tr>\n",
       "      <td>1316</td>\n",
       "      <td>1317</td>\n",
       "      <td>1.0</td>\n",
       "      <td>5.987679</td>\n",
       "      <td>0.896646</td>\n",
       "    </tr>\n",
       "  </tbody>\n",
       "</table>\n",
       "</div>"
      ],
      "text/plain": [
       "      Client  Sale_MF  Revenue_MF  Propensity\n",
       "101      102      1.0    2.958036    1.000000\n",
       "1229    1230      1.0    1.547500    0.999995\n",
       "1495    1496      1.0    5.771250    0.999851\n",
       "41        42      1.0   15.275714    0.999811\n",
       "1316    1317      1.0    5.987679    0.896646"
      ]
     },
     "execution_count": 68,
     "metadata": {},
     "output_type": "execute_result"
    }
   ],
   "source": [
    "Clients_mutual_fund.head()"
   ]
  },
  {
   "cell_type": "code",
   "execution_count": 69,
   "metadata": {},
   "outputs": [
    {
     "name": "stdout",
     "output_type": "stream",
     "text": [
      "Revenue From sale of Credit Card   = 225.463571427\n",
      "Revenue From sale of Consumer Loan = 497.7578571719999\n",
      "Revenue From sale of Mutual Fund   = 265.494107137\n",
      "Total best case Revenue = 988.7155357359999\n"
     ]
    }
   ],
   "source": [
    "data_credit.rename(columns={'Revenue_CC': 'Revenue'}, inplace=True)\n",
    "data_loan.rename(columns={'Revenue_CL': 'Revenue'}, inplace=True)\n",
    "data_mutual_fund.rename(columns={'Revenue_MF': 'Revenue'}, inplace=True)\n",
    "print(\"Revenue From sale of Credit Card   = \" +str(data_credit.Revenue.sum()))\n",
    "print(\"Revenue From sale of Consumer Loan = \" +str(data_loan.Revenue.sum()))\n",
    "print(\"Revenue From sale of Mutual Fund   = \" +str(data_mutual_fund.Revenue.sum()))\n",
    "print(\"Total best case Revenue = \" +str(data_credit.Revenue.sum() + data_loan.Revenue.sum() + data_mutual_fund.Revenue.sum()))"
   ]
  },
  {
   "cell_type": "code",
   "execution_count": 80,
   "metadata": {},
   "outputs": [],
   "source": [
    "Consolidated_data = data_credit[[\"Client\",\"Revenue\",'Propensity']].copy()\n",
    "Consolidated_data['Category'] = 'Credit'\n",
    "Consolidated_data = Consolidated_data.append(data_loan, sort = True)\n",
    "Consolidated_data = Consolidated_data[['Category','Client','Revenue','Propensity']]\n",
    "Consolidated_data = Consolidated_data.fillna('Loan')\n",
    "Consolidated_data = Consolidated_data.append(data_mutual_fund)\n",
    "Consolidated_data = Consolidated_data[['Category','Client','Revenue','Propensity']]\n",
    "Consolidated_data = Consolidated_data.fillna('mutual_fund')\n",
    "Consolidated_data['Propensity'] = pd.to_numeric(Consolidated_data['Propensity'])"
   ]
  },
  {
   "cell_type": "code",
   "execution_count": 82,
   "metadata": {},
   "outputs": [
    {
     "data": {
      "text/html": [
       "<div>\n",
       "<style scoped>\n",
       "    .dataframe tbody tr th:only-of-type {\n",
       "        vertical-align: middle;\n",
       "    }\n",
       "\n",
       "    .dataframe tbody tr th {\n",
       "        vertical-align: top;\n",
       "    }\n",
       "\n",
       "    .dataframe thead th {\n",
       "        text-align: right;\n",
       "    }\n",
       "</style>\n",
       "<table border=\"1\" class=\"dataframe\">\n",
       "  <thead>\n",
       "    <tr style=\"text-align: right;\">\n",
       "      <th></th>\n",
       "      <th>Category</th>\n",
       "      <th>Client</th>\n",
       "      <th>Revenue</th>\n",
       "      <th>Propensity</th>\n",
       "    </tr>\n",
       "  </thead>\n",
       "  <tbody>\n",
       "    <tr>\n",
       "      <td>48</td>\n",
       "      <td>Credit</td>\n",
       "      <td>49</td>\n",
       "      <td>15.246429</td>\n",
       "      <td>0.7</td>\n",
       "    </tr>\n",
       "    <tr>\n",
       "      <td>95</td>\n",
       "      <td>Credit</td>\n",
       "      <td>96</td>\n",
       "      <td>6.107143</td>\n",
       "      <td>0.2</td>\n",
       "    </tr>\n",
       "    <tr>\n",
       "      <td>130</td>\n",
       "      <td>Credit</td>\n",
       "      <td>131</td>\n",
       "      <td>4.642857</td>\n",
       "      <td>0.2</td>\n",
       "    </tr>\n",
       "    <tr>\n",
       "      <td>350</td>\n",
       "      <td>Credit</td>\n",
       "      <td>351</td>\n",
       "      <td>3.607143</td>\n",
       "      <td>0.2</td>\n",
       "    </tr>\n",
       "    <tr>\n",
       "      <td>373</td>\n",
       "      <td>Credit</td>\n",
       "      <td>374</td>\n",
       "      <td>76.859286</td>\n",
       "      <td>0.1</td>\n",
       "    </tr>\n",
       "  </tbody>\n",
       "</table>\n",
       "</div>"
      ],
      "text/plain": [
       "    Category  Client    Revenue  Propensity\n",
       "48    Credit      49  15.246429         0.7\n",
       "95    Credit      96   6.107143         0.2\n",
       "130   Credit     131   4.642857         0.2\n",
       "350   Credit     351   3.607143         0.2\n",
       "373   Credit     374  76.859286         0.1"
      ]
     },
     "execution_count": 82,
     "metadata": {},
     "output_type": "execute_result"
    }
   ],
   "source": [
    "Consolidated_data.head()"
   ]
  },
  {
   "cell_type": "code",
   "execution_count": 83,
   "metadata": {},
   "outputs": [
    {
     "data": {
      "text/plain": [
       "Loan           44\n",
       "mutual_fund    33\n",
       "Credit         25\n",
       "Name: Category, dtype: int64"
      ]
     },
     "execution_count": 83,
     "metadata": {},
     "output_type": "execute_result"
    }
   ],
   "source": [
    "Consolidated_data['Category'].value_counts()"
   ]
  },
  {
   "cell_type": "code",
   "execution_count": 84,
   "metadata": {},
   "outputs": [
    {
     "data": {
      "text/plain": [
       "<seaborn.axisgrid.FacetGrid at 0x5ab30ac0c8>"
      ]
     },
     "execution_count": 84,
     "metadata": {},
     "output_type": "execute_result"
    },
    {
     "data": {
      "image/png": "[encoded data removed]",
      "text/plain": [
       "<Figure size 459x360 with 1 Axes>"
      ]
     },
     "metadata": {
      "needs_background": "light"
     },
     "output_type": "display_data"
    }
   ],
   "source": [
    "sns.FacetGrid(Consolidated_data, hue=\"Category\", height=5) \\\n",
    "   .map(plt.scatter, \"Propensity\", \"Revenue\") \\\n",
    "   .add_legend()"
   ]
  },
  {
   "cell_type": "code",
   "execution_count": 85,
   "metadata": {},
   "outputs": [
    {
     "data": {
      "text/plain": [
       "<matplotlib.axes._subplots.AxesSubplot at 0x5ab414d4c8>"
      ]
     },
     "execution_count": 85,
     "metadata": {},
     "output_type": "execute_result"
    },
    {
     "data": {
      "image/png": "[encoded data removed]",
      "text/plain": [
       "<Figure size 432x288 with 1 Axes>"
      ]
     },
     "metadata": {
      "needs_background": "light"
     },
     "output_type": "display_data"
    }
   ],
   "source": [
    "sns.violinplot(x=\"Category\", y=\"Revenue\", data=Consolidated_data, size=6)"
   ]
  },
  {
   "cell_type": "code",
   "execution_count": 86,
   "metadata": {},
   "outputs": [
    {
     "data": {
      "text/plain": [
       "<seaborn.axisgrid.PairGrid at 0x5ab41c89c8>"
      ]
     },
     "execution_count": 86,
     "metadata": {},
     "output_type": "execute_result"
    },
    {
     "data": {
      "image/png": "[encoded data removed]",
      "text/plain": [
       "<Figure size 531x432 with 6 Axes>"
      ]
     },
     "metadata": {
      "needs_background": "light"
     },
     "output_type": "display_data"
    }
   ],
   "source": [
    "sns.pairplot(Consolidated_data.drop(\"Client\", axis=1), hue=\"Category\", height=3)"
   ]
  },
  {
   "cell_type": "code",
   "execution_count": 87,
   "metadata": {},
   "outputs": [
    {
     "data": {
      "text/plain": [
       "<seaborn.axisgrid.PairGrid at 0x5ab4605048>"
      ]
     },
     "execution_count": 87,
     "metadata": {},
     "output_type": "execute_result"
    },
    {
     "data": {
      "image/png": "[encoded data removed]",
      "text/plain": [
       "<Figure size 531x432 with 6 Axes>"
      ]
     },
     "metadata": {
      "needs_background": "light"
     },
     "output_type": "display_data"
    }
   ],
   "source": [
    "sns.pairplot(Consolidated_data.drop(\"Client\", axis=1), hue=\"Category\", height=3, diag_kind=\"kde\")"
   ]
  },
  {
   "cell_type": "code",
   "execution_count": 88,
   "metadata": {},
   "outputs": [
    {
     "data": {
      "text/html": [
       "<div>\n",
       "<style scoped>\n",
       "    .dataframe tbody tr th:only-of-type {\n",
       "        vertical-align: middle;\n",
       "    }\n",
       "\n",
       "    .dataframe tbody tr th {\n",
       "        vertical-align: top;\n",
       "    }\n",
       "\n",
       "    .dataframe thead th {\n",
       "        text-align: right;\n",
       "    }\n",
       "</style>\n",
       "<table border=\"1\" class=\"dataframe\">\n",
       "  <thead>\n",
       "    <tr style=\"text-align: right;\">\n",
       "      <th></th>\n",
       "      <th>Category</th>\n",
       "      <th>Client</th>\n",
       "      <th>Revenue</th>\n",
       "      <th>Propensity</th>\n",
       "    </tr>\n",
       "  </thead>\n",
       "  <tbody>\n",
       "    <tr>\n",
       "      <td>101</td>\n",
       "      <td>mutual_fund</td>\n",
       "      <td>102</td>\n",
       "      <td>2.958036</td>\n",
       "      <td>1.000000</td>\n",
       "    </tr>\n",
       "    <tr>\n",
       "      <td>1229</td>\n",
       "      <td>mutual_fund</td>\n",
       "      <td>1230</td>\n",
       "      <td>1.547500</td>\n",
       "      <td>0.999995</td>\n",
       "    </tr>\n",
       "    <tr>\n",
       "      <td>1495</td>\n",
       "      <td>mutual_fund</td>\n",
       "      <td>1496</td>\n",
       "      <td>5.771250</td>\n",
       "      <td>0.999851</td>\n",
       "    </tr>\n",
       "    <tr>\n",
       "      <td>41</td>\n",
       "      <td>mutual_fund</td>\n",
       "      <td>42</td>\n",
       "      <td>15.275714</td>\n",
       "      <td>0.999811</td>\n",
       "    </tr>\n",
       "    <tr>\n",
       "      <td>1316</td>\n",
       "      <td>mutual_fund</td>\n",
       "      <td>1317</td>\n",
       "      <td>5.987679</td>\n",
       "      <td>0.896646</td>\n",
       "    </tr>\n",
       "    <tr>\n",
       "      <td>910</td>\n",
       "      <td>mutual_fund</td>\n",
       "      <td>911</td>\n",
       "      <td>1.269643</td>\n",
       "      <td>0.634898</td>\n",
       "    </tr>\n",
       "    <tr>\n",
       "      <td>597</td>\n",
       "      <td>mutual_fund</td>\n",
       "      <td>598</td>\n",
       "      <td>0.163571</td>\n",
       "      <td>0.601549</td>\n",
       "    </tr>\n",
       "    <tr>\n",
       "      <td>101</td>\n",
       "      <td>Loan</td>\n",
       "      <td>102</td>\n",
       "      <td>6.952500</td>\n",
       "      <td>0.845450</td>\n",
       "    </tr>\n",
       "    <tr>\n",
       "      <td>774</td>\n",
       "      <td>Loan</td>\n",
       "      <td>775</td>\n",
       "      <td>19.035714</td>\n",
       "      <td>0.807896</td>\n",
       "    </tr>\n",
       "    <tr>\n",
       "      <td>1258</td>\n",
       "      <td>Loan</td>\n",
       "      <td>1259</td>\n",
       "      <td>12.659286</td>\n",
       "      <td>0.764871</td>\n",
       "    </tr>\n",
       "    <tr>\n",
       "      <td>1297</td>\n",
       "      <td>Loan</td>\n",
       "      <td>1298</td>\n",
       "      <td>25.243214</td>\n",
       "      <td>0.764862</td>\n",
       "    </tr>\n",
       "    <tr>\n",
       "      <td>1426</td>\n",
       "      <td>Loan</td>\n",
       "      <td>1427</td>\n",
       "      <td>10.357143</td>\n",
       "      <td>0.748213</td>\n",
       "    </tr>\n",
       "    <tr>\n",
       "      <td>1341</td>\n",
       "      <td>Loan</td>\n",
       "      <td>1342</td>\n",
       "      <td>16.153214</td>\n",
       "      <td>0.734155</td>\n",
       "    </tr>\n",
       "    <tr>\n",
       "      <td>825</td>\n",
       "      <td>Loan</td>\n",
       "      <td>826</td>\n",
       "      <td>2.821429</td>\n",
       "      <td>0.701181</td>\n",
       "    </tr>\n",
       "    <tr>\n",
       "      <td>518</td>\n",
       "      <td>Loan</td>\n",
       "      <td>519</td>\n",
       "      <td>5.500000</td>\n",
       "      <td>0.689654</td>\n",
       "    </tr>\n",
       "    <tr>\n",
       "      <td>1408</td>\n",
       "      <td>Loan</td>\n",
       "      <td>1409</td>\n",
       "      <td>4.852143</td>\n",
       "      <td>0.687230</td>\n",
       "    </tr>\n",
       "    <tr>\n",
       "      <td>1032</td>\n",
       "      <td>Loan</td>\n",
       "      <td>1033</td>\n",
       "      <td>2.702500</td>\n",
       "      <td>0.678743</td>\n",
       "    </tr>\n",
       "    <tr>\n",
       "      <td>557</td>\n",
       "      <td>Loan</td>\n",
       "      <td>558</td>\n",
       "      <td>8.318214</td>\n",
       "      <td>0.668600</td>\n",
       "    </tr>\n",
       "    <tr>\n",
       "      <td>1266</td>\n",
       "      <td>Loan</td>\n",
       "      <td>1267</td>\n",
       "      <td>21.820714</td>\n",
       "      <td>0.667950</td>\n",
       "    </tr>\n",
       "    <tr>\n",
       "      <td>1267</td>\n",
       "      <td>Loan</td>\n",
       "      <td>1268</td>\n",
       "      <td>20.343571</td>\n",
       "      <td>0.647663</td>\n",
       "    </tr>\n",
       "    <tr>\n",
       "      <td>1189</td>\n",
       "      <td>Loan</td>\n",
       "      <td>1190</td>\n",
       "      <td>4.512143</td>\n",
       "      <td>0.646534</td>\n",
       "    </tr>\n",
       "    <tr>\n",
       "      <td>1264</td>\n",
       "      <td>Loan</td>\n",
       "      <td>1265</td>\n",
       "      <td>17.175357</td>\n",
       "      <td>0.630426</td>\n",
       "    </tr>\n",
       "    <tr>\n",
       "      <td>903</td>\n",
       "      <td>Loan</td>\n",
       "      <td>904</td>\n",
       "      <td>8.321429</td>\n",
       "      <td>0.629173</td>\n",
       "    </tr>\n",
       "    <tr>\n",
       "      <td>1391</td>\n",
       "      <td>Loan</td>\n",
       "      <td>1392</td>\n",
       "      <td>1.750000</td>\n",
       "      <td>0.621365</td>\n",
       "    </tr>\n",
       "    <tr>\n",
       "      <td>48</td>\n",
       "      <td>Credit</td>\n",
       "      <td>49</td>\n",
       "      <td>15.246429</td>\n",
       "      <td>0.700000</td>\n",
       "    </tr>\n",
       "    <tr>\n",
       "      <td>617</td>\n",
       "      <td>Credit</td>\n",
       "      <td>618</td>\n",
       "      <td>18.571429</td>\n",
       "      <td>0.700000</td>\n",
       "    </tr>\n",
       "    <tr>\n",
       "      <td>1366</td>\n",
       "      <td>Credit</td>\n",
       "      <td>1367</td>\n",
       "      <td>5.177143</td>\n",
       "      <td>0.700000</td>\n",
       "    </tr>\n",
       "  </tbody>\n",
       "</table>\n",
       "</div>"
      ],
      "text/plain": [
       "         Category  Client    Revenue  Propensity\n",
       "101   mutual_fund     102   2.958036    1.000000\n",
       "1229  mutual_fund    1230   1.547500    0.999995\n",
       "1495  mutual_fund    1496   5.771250    0.999851\n",
       "41    mutual_fund      42  15.275714    0.999811\n",
       "1316  mutual_fund    1317   5.987679    0.896646\n",
       "910   mutual_fund     911   1.269643    0.634898\n",
       "597   mutual_fund     598   0.163571    0.601549\n",
       "101          Loan     102   6.952500    0.845450\n",
       "774          Loan     775  19.035714    0.807896\n",
       "1258         Loan    1259  12.659286    0.764871\n",
       "1297         Loan    1298  25.243214    0.764862\n",
       "1426         Loan    1427  10.357143    0.748213\n",
       "1341         Loan    1342  16.153214    0.734155\n",
       "825          Loan     826   2.821429    0.701181\n",
       "518          Loan     519   5.500000    0.689654\n",
       "1408         Loan    1409   4.852143    0.687230\n",
       "1032         Loan    1033   2.702500    0.678743\n",
       "557          Loan     558   8.318214    0.668600\n",
       "1266         Loan    1267  21.820714    0.667950\n",
       "1267         Loan    1268  20.343571    0.647663\n",
       "1189         Loan    1190   4.512143    0.646534\n",
       "1264         Loan    1265  17.175357    0.630426\n",
       "903          Loan     904   8.321429    0.629173\n",
       "1391         Loan    1392   1.750000    0.621365\n",
       "48         Credit      49  15.246429    0.700000\n",
       "617        Credit     618  18.571429    0.700000\n",
       "1366       Credit    1367   5.177143    0.700000"
      ]
     },
     "execution_count": 88,
     "metadata": {},
     "output_type": "execute_result"
    }
   ],
   "source": [
    "CallTheseClients = Consolidated_data[(Consolidated_data.Propensity >= 0.60)]\n",
    "CallTheseClients = CallTheseClients.sort_values(by =['Category','Propensity'],ascending=False)\n",
    "CallTheseClients"
   ]
  },
  {
   "cell_type": "code",
   "execution_count": null,
   "metadata": {},
   "outputs": [],
   "source": []
  }
 ],
 "metadata": {
  "kernelspec": {
   "display_name": "Python 3",
   "language": "python",
   "name": "python3"
  },
  "language_info": {
   "codemirror_mode": {
    "name": "ipython",
    "version": 3
   },
   "file_extension": ".py",
   "mimetype": "text/x-python",
   "name": "python",
   "nbconvert_exporter": "python",
   "pygments_lexer": "ipython3",
   "version": "3.7.4"
  }
 },
 "nbformat": 4,
 "nbformat_minor": 2
}
